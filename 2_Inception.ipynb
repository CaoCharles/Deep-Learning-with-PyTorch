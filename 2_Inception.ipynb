{
  "nbformat": 4,
  "nbformat_minor": 0,
  "metadata": {
    "colab": {
      "name": "2_Inception.ipynb",
      "version": "0.3.2",
      "provenance": [],
      "collapsed_sections": [],
      "include_colab_link": true
    },
    "kernelspec": {
      "name": "python3",
      "display_name": "Python 3"
    },
    "accelerator": "GPU"
  },
  "cells": [
    {
      "cell_type": "markdown",
      "metadata": {
        "id": "view-in-github",
        "colab_type": "text"
      },
      "source": [
        "<a href=\"https://colab.research.google.com/github/CaoCharles/Deep-Learning-with-PyTorch/blob/master/2_Inception.ipynb\" target=\"_parent\"><img src=\"https://colab.research.google.com/assets/colab-badge.svg\" alt=\"Open In Colab\"/></a>"
      ]
    },
    {
      "metadata": {
        "id": "ckznPE61KrD8",
        "colab_type": "code",
        "colab": {}
      },
      "cell_type": "code",
      "source": [
        "# http://pytorch.org/\n",
        "from os.path import exists\n",
        "from wheel.pep425tags import get_abbr_impl, get_impl_ver, get_abi_tag\n",
        "platform = '{}{}-{}'.format(get_abbr_impl(), get_impl_ver(), get_abi_tag())\n",
        "cuda_output = !ldconfig -p|grep cudart.so|sed -e 's/.*\\.\\([0-9]*\\)\\.\\([0-9]*\\)$/cu\\1\\2/'\n",
        "accelerator = cuda_output[0] if exists('/dev/nvidia0') else 'cpu'\n",
        "\n",
        "!pip install -q http://download.pytorch.org/whl/{accelerator}/torch-0.4.1-{platform}-linux_x86_64.whl torchvision\n",
        "import torch"
      ],
      "execution_count": 0,
      "outputs": []
    },
    {
      "metadata": {
        "id": "GRR6m3hJKvEf",
        "colab_type": "code",
        "colab": {}
      },
      "cell_type": "code",
      "source": [
        "# 匯入套件\n",
        "import pandas as pd\n",
        "from glob import glob\n",
        "import os\n",
        "from shutil import copyfile\n",
        "from torch.utils.data import Dataset\n",
        "from PIL import Image\n",
        "import numpy as np\n",
        "from numpy.random import permutation\n",
        "import matplotlib.pyplot as plt\n",
        "\n",
        "from torchvision import transforms\n",
        "from torchvision.datasets import ImageFolder\n",
        "from torchvision.models.inception import inception_v3\n",
        "from torch.utils.data import DataLoader\n",
        "from torch.autograd import Variable\n",
        "import torch\n",
        "import torch.nn as nn\n",
        "import torch.optim as optim\n",
        "import torch.nn.functional as F\n",
        "\n",
        "%matplotlib inline\n"
      ],
      "execution_count": 0,
      "outputs": []
    },
    {
      "metadata": {
        "id": "_4wHIn5XKx8e",
        "colab_type": "code",
        "outputId": "dbc78299-3251-402b-903d-30621546e666",
        "colab": {
          "base_uri": "https://localhost:8080/",
          "height": 139
        }
      },
      "cell_type": "code",
      "source": [
        "!pip install Pillow==4.1.1\n",
        "!pip install image\n",
        "import PIL.Image"
      ],
      "execution_count": 3,
      "outputs": [
        {
          "output_type": "stream",
          "text": [
            "Requirement already satisfied: Pillow==4.1.1 in /usr/local/lib/python3.6/dist-packages (4.1.1)\n",
            "Requirement already satisfied: olefile in /usr/local/lib/python3.6/dist-packages (from Pillow==4.1.1) (0.46)\n",
            "Requirement already satisfied: image in /usr/local/lib/python3.6/dist-packages (1.5.27)\n",
            "Requirement already satisfied: pillow in /usr/local/lib/python3.6/dist-packages (from image) (4.1.1)\n",
            "Requirement already satisfied: django in /usr/local/lib/python3.6/dist-packages (from image) (2.1.4)\n",
            "Requirement already satisfied: olefile in /usr/local/lib/python3.6/dist-packages (from pillow->image) (0.46)\n",
            "Requirement already satisfied: pytz in /usr/local/lib/python3.6/dist-packages (from django->image) (2018.7)\n"
          ],
          "name": "stdout"
        }
      ]
    },
    {
      "metadata": {
        "id": "7KVT1v0zK01K",
        "colab_type": "code",
        "outputId": "4a3870bb-f070-4870-e667-cf0657a855ea",
        "colab": {
          "base_uri": "https://localhost:8080/",
          "height": 35
        }
      },
      "cell_type": "code",
      "source": [
        "is_cuda = torch.cuda.is_available()\n",
        "is_cuda"
      ],
      "execution_count": 4,
      "outputs": [
        {
          "output_type": "execute_result",
          "data": {
            "text/plain": [
              "True"
            ]
          },
          "metadata": {
            "tags": []
          },
          "execution_count": 4
        }
      ]
    },
    {
      "metadata": {
        "id": "wI-pfT38NMk-",
        "colab_type": "text"
      },
      "cell_type": "markdown",
      "source": [
        "## Utility functions"
      ]
    },
    {
      "metadata": {
        "id": "NKcoTPYlNJZm",
        "colab_type": "code",
        "colab": {}
      },
      "cell_type": "code",
      "source": [
        "def imshow(inp,cmap=None):\n",
        "    \"\"\"Imshow for Tensor.\"\"\"\n",
        "    inp = inp.numpy().transpose((1, 2, 0))\n",
        "    mean = np.array([0.485, 0.456, 0.406])\n",
        "    std = np.array([0.229, 0.224, 0.225])\n",
        "    inp = std * inp + mean\n",
        "    inp = np.clip(inp, 0, 1)\n",
        "    plt.imshow(inp,cmap)\n",
        "    \n",
        "class LayerActivations():\n",
        "    features=[]\n",
        "    \n",
        "    def __init__(self,model):\n",
        "        self.features = []\n",
        "        self.hook = model.register_forward_hook(self.hook_fn)\n",
        "    \n",
        "    def hook_fn(self,module,input,output):\n",
        "        \n",
        "        self.features.extend(output.view(output.size(0),-1).cpu().data)\n",
        "\n",
        "    \n",
        "    def remove(self):\n",
        "        \n",
        "        self.hook.remove()\n",
        "    \n",
        "class FeaturesDataset(Dataset):\n",
        "    \n",
        "    def __init__(self,featlst,labellst):\n",
        "        self.featlst = featlst\n",
        "        self.labellst = labellst\n",
        "        \n",
        "    def __getitem__(self,index):\n",
        "        return (self.featlst[index],self.labellst[index])\n",
        "    \n",
        "    def __len__(self):\n",
        "        return len(self.labellst)\n",
        "    \n",
        "def fit(epoch,model,data_loader,phase='training',volatile=False):\n",
        "    if phase == 'training':\n",
        "        model.train()\n",
        "    if phase == 'validation':\n",
        "        model.eval()\n",
        "        volatile=True\n",
        "    running_loss = 0.0\n",
        "    running_correct = 0\n",
        "    for batch_idx , (data,target) in enumerate(data_loader):\n",
        "        if is_cuda:\n",
        "            data,target = data.cuda(),target.cuda()\n",
        "        data , target = Variable(data,volatile),Variable(target)\n",
        "        if phase == 'training':\n",
        "            optimizer.zero_grad()\n",
        "        output = model(data)\n",
        "        loss = F.cross_entropy(output,target)\n",
        "        \n",
        "        running_loss += F.cross_entropy(output,target,size_average=False).data[0]\n",
        "        preds = output.data.max(dim=1,keepdim=True)[1]\n",
        "        running_correct += preds.eq(target.data.view_as(preds)).cpu().sum()\n",
        "        if phase == 'training':\n",
        "            loss.backward()\n",
        "            optimizer.step()\n",
        "    \n",
        "    loss = float(running_loss)/float(len(data_loader.dataset))\n",
        "    accuracy = 100. * float(running_correct)/float(len(data_loader.dataset))\n",
        "    \n",
        "    print(f'{phase} loss is {loss:{5}.{2}} and {phase} accuracy is {float(running_correct)}/{float(len(data_loader.dataset))}{accuracy:{10}.{4}}')\n",
        "    return loss,accuracy"
      ],
      "execution_count": 0,
      "outputs": []
    },
    {
      "metadata": {
        "id": "UHJO5fexNmR8",
        "colab_type": "text"
      },
      "cell_type": "markdown",
      "source": [
        "## Creating PyTorch datasets"
      ]
    },
    {
      "metadata": {
        "id": "vVY9etIhNjTM",
        "colab_type": "code",
        "outputId": "4220a1d2-cfa6-4698-e38e-04a176c30c8a",
        "colab": {
          "base_uri": "https://localhost:8080/",
          "height": 35
        }
      },
      "cell_type": "code",
      "source": [
        "from google.colab import drive\n",
        "\n",
        "drive.mount(\"/content/drive\")"
      ],
      "execution_count": 6,
      "outputs": [
        {
          "output_type": "stream",
          "text": [
            "Drive already mounted at /content/drive; to attempt to forcibly remount, call drive.mount(\"/content/drive\", force_remount=True).\n"
          ],
          "name": "stdout"
        }
      ]
    },
    {
      "metadata": {
        "id": "Osl1rhlrNsxW",
        "colab_type": "code",
        "colab": {}
      },
      "cell_type": "code",
      "source": [
        "data_transform = transforms.Compose([\n",
        "        transforms.Resize((299,299)),\n",
        "        transforms.ToTensor(),\n",
        "        transforms.Normalize([0.485, 0.456, 0.406], [0.229, 0.224, 0.225])\n",
        "    ])"
      ],
      "execution_count": 0,
      "outputs": []
    },
    {
      "metadata": {
        "id": "2VkyR_zGN3Md",
        "colab_type": "code",
        "colab": {}
      },
      "cell_type": "code",
      "source": [
        "# For Dogs & Cats dataset\n",
        "train_dset = ImageFolder('/content/drive/My Drive/Colab Notebooks/dogsandcats/train',transform=data_transform)\n",
        "val_dset = ImageFolder('/content/drive/My Drive/Colab Notebooks/dogsandcats/test',transform=data_transform)\n",
        "classes=2"
      ],
      "execution_count": 0,
      "outputs": []
    },
    {
      "metadata": {
        "id": "NdZQWqdqvn6Z",
        "colab_type": "code",
        "outputId": "3c3be3cb-d218-4f34-9c08-2cee56ad4524",
        "colab": {
          "base_uri": "https://localhost:8080/",
          "height": 269
        }
      },
      "cell_type": "code",
      "source": [
        "imshow(train_dset[22499][0])"
      ],
      "execution_count": 9,
      "outputs": [
        {
          "output_type": "display_data",
          "data": {
            "image/png": "[encoded data removed]",
            "text/plain": [
              "<matplotlib.figure.Figure at 0x7ffb62ec58d0>"
            ]
          },
          "metadata": {
            "tags": []
          }
        }
      ]
    },
    {
      "metadata": {
        "id": "r_MFU2htN_RS",
        "colab_type": "code",
        "colab": {}
      },
      "cell_type": "code",
      "source": [
        ""
      ],
      "execution_count": 0,
      "outputs": []
    },
    {
      "metadata": {
        "id": "cGwxphmgOEBc",
        "colab_type": "text"
      },
      "cell_type": "markdown",
      "source": [
        "## Creating data loader for training and validation datasets"
      ]
    },
    {
      "metadata": {
        "id": "s6B4wJ2XOB78",
        "colab_type": "code",
        "colab": {}
      },
      "cell_type": "code",
      "source": [
        "train_loader = DataLoader(train_dset,batch_size=32,shuffle=False,num_workers=3)\n",
        "val_loader = DataLoader(val_dset,batch_size=32,shuffle=False,num_workers=3)"
      ],
      "execution_count": 0,
      "outputs": []
    },
    {
      "metadata": {
        "id": "u4yDwZkbOZFS",
        "colab_type": "text"
      },
      "cell_type": "markdown",
      "source": [
        "## Creating Inception V3 model"
      ]
    },
    {
      "metadata": {
        "id": "3p1DA3LS1eJR",
        "colab_type": "code",
        "colab": {}
      },
      "cell_type": "code",
      "source": [
        "import torchvision.models.inception\n",
        "my_inception = inception_v3(pretrained=True)\n",
        "my_inception.aux_logits = False"
      ],
      "execution_count": 0,
      "outputs": []
    },
    {
      "metadata": {
        "id": "b3RXwOTkW779",
        "colab_type": "code",
        "colab": {
          "base_uri": "https://localhost:8080/",
          "height": 173
        },
        "outputId": "51cea53e-311f-46e9-8092-983fbb408a55"
      },
      "cell_type": "code",
      "source": [
        "help(torchvision.models.inception.inception_v3)"
      ],
      "execution_count": 12,
      "outputs": [
        {
          "output_type": "stream",
          "text": [
            "Help on function inception_v3 in module torchvision.models.inception:\n",
            "\n",
            "inception_v3(pretrained=False, **kwargs)\n",
            "    Inception v3 model architecture from\n",
            "    `\"Rethinking the Inception Architecture for Computer Vision\" <http://arxiv.org/abs/1512.00567>`_.\n",
            "    \n",
            "    Args:\n",
            "        pretrained (bool): If True, returns a model pre-trained on ImageNet\n",
            "\n"
          ],
          "name": "stdout"
        }
      ]
    },
    {
      "metadata": {
        "id": "PDD_BIZkOYZk",
        "colab_type": "code",
        "outputId": "13529791-fa5d-4192-b46c-93ae73a26185",
        "colab": {
          "base_uri": "https://localhost:8080/",
          "height": 7159
        }
      },
      "cell_type": "code",
      "source": [
        "imy_inception = inception_v3(pretrained=True)\n",
        "my_inception.aux_logits = False\n",
        "my_inception"
      ],
      "execution_count": 13,
      "outputs": [
        {
          "output_type": "execute_result",
          "data": {
            "text/plain": [
              "Inception3(\n",
              "  (Conv2d_1a_3x3): BasicConv2d(\n",
              "    (conv): Conv2d(3, 32, kernel_size=(3, 3), stride=(2, 2), bias=False)\n",
              "    (bn): BatchNorm2d(32, eps=0.001, momentum=0.1, affine=True, track_running_stats=True)\n",
              "  )\n",
              "  (Conv2d_2a_3x3): BasicConv2d(\n",
              "    (conv): Conv2d(32, 32, kernel_size=(3, 3), stride=(1, 1), bias=False)\n",
              "    (bn): BatchNorm2d(32, eps=0.001, momentum=0.1, affine=True, track_running_stats=True)\n",
              "  )\n",
              "  (Conv2d_2b_3x3): BasicConv2d(\n",
              "    (conv): Conv2d(32, 64, kernel_size=(3, 3), stride=(1, 1), padding=(1, 1), bias=False)\n",
              "    (bn): BatchNorm2d(64, eps=0.001, momentum=0.1, affine=True, track_running_stats=True)\n",
              "  )\n",
              "  (Conv2d_3b_1x1): BasicConv2d(\n",
              "    (conv): Conv2d(64, 80, kernel_size=(1, 1), stride=(1, 1), bias=False)\n",
              "    (bn): BatchNorm2d(80, eps=0.001, momentum=0.1, affine=True, track_running_stats=True)\n",
              "  )\n",
              "  (Conv2d_4a_3x3): BasicConv2d(\n",
              "    (conv): Conv2d(80, 192, kernel_size=(3, 3), stride=(1, 1), bias=False)\n",
              "    (bn): BatchNorm2d(192, eps=0.001, momentum=0.1, affine=True, track_running_stats=True)\n",
              "  )\n",
              "  (Mixed_5b): InceptionA(\n",
              "    (branch1x1): BasicConv2d(\n",
              "      (conv): Conv2d(192, 64, kernel_size=(1, 1), stride=(1, 1), bias=False)\n",
              "      (bn): BatchNorm2d(64, eps=0.001, momentum=0.1, affine=True, track_running_stats=True)\n",
              "    )\n",
              "    (branch5x5_1): BasicConv2d(\n",
              "      (conv): Conv2d(192, 48, kernel_size=(1, 1), stride=(1, 1), bias=False)\n",
              "      (bn): BatchNorm2d(48, eps=0.001, momentum=0.1, affine=True, track_running_stats=True)\n",
              "    )\n",
              "    (branch5x5_2): BasicConv2d(\n",
              "      (conv): Conv2d(48, 64, kernel_size=(5, 5), stride=(1, 1), padding=(2, 2), bias=False)\n",
              "      (bn): BatchNorm2d(64, eps=0.001, momentum=0.1, affine=True, track_running_stats=True)\n",
              "    )\n",
              "    (branch3x3dbl_1): BasicConv2d(\n",
              "      (conv): Conv2d(192, 64, kernel_size=(1, 1), stride=(1, 1), bias=False)\n",
              "      (bn): BatchNorm2d(64, eps=0.001, momentum=0.1, affine=True, track_running_stats=True)\n",
              "    )\n",
              "    (branch3x3dbl_2): BasicConv2d(\n",
              "      (conv): Conv2d(64, 96, kernel_size=(3, 3), stride=(1, 1), padding=(1, 1), bias=False)\n",
              "      (bn): BatchNorm2d(96, eps=0.001, momentum=0.1, affine=True, track_running_stats=True)\n",
              "    )\n",
              "    (branch3x3dbl_3): BasicConv2d(\n",
              "      (conv): Conv2d(96, 96, kernel_size=(3, 3), stride=(1, 1), padding=(1, 1), bias=False)\n",
              "      (bn): BatchNorm2d(96, eps=0.001, momentum=0.1, affine=True, track_running_stats=True)\n",
              "    )\n",
              "    (branch_pool): BasicConv2d(\n",
              "      (conv): Conv2d(192, 32, kernel_size=(1, 1), stride=(1, 1), bias=False)\n",
              "      (bn): BatchNorm2d(32, eps=0.001, momentum=0.1, affine=True, track_running_stats=True)\n",
              "    )\n",
              "  )\n",
              "  (Mixed_5c): InceptionA(\n",
              "    (branch1x1): BasicConv2d(\n",
              "      (conv): Conv2d(256, 64, kernel_size=(1, 1), stride=(1, 1), bias=False)\n",
              "      (bn): BatchNorm2d(64, eps=0.001, momentum=0.1, affine=True, track_running_stats=True)\n",
              "    )\n",
              "    (branch5x5_1): BasicConv2d(\n",
              "      (conv): Conv2d(256, 48, kernel_size=(1, 1), stride=(1, 1), bias=False)\n",
              "      (bn): BatchNorm2d(48, eps=0.001, momentum=0.1, affine=True, track_running_stats=True)\n",
              "    )\n",
              "    (branch5x5_2): BasicConv2d(\n",
              "      (conv): Conv2d(48, 64, kernel_size=(5, 5), stride=(1, 1), padding=(2, 2), bias=False)\n",
              "      (bn): BatchNorm2d(64, eps=0.001, momentum=0.1, affine=True, track_running_stats=True)\n",
              "    )\n",
              "    (branch3x3dbl_1): BasicConv2d(\n",
              "      (conv): Conv2d(256, 64, kernel_size=(1, 1), stride=(1, 1), bias=False)\n",
              "      (bn): BatchNorm2d(64, eps=0.001, momentum=0.1, affine=True, track_running_stats=True)\n",
              "    )\n",
              "    (branch3x3dbl_2): BasicConv2d(\n",
              "      (conv): Conv2d(64, 96, kernel_size=(3, 3), stride=(1, 1), padding=(1, 1), bias=False)\n",
              "      (bn): BatchNorm2d(96, eps=0.001, momentum=0.1, affine=True, track_running_stats=True)\n",
              "    )\n",
              "    (branch3x3dbl_3): BasicConv2d(\n",
              "      (conv): Conv2d(96, 96, kernel_size=(3, 3), stride=(1, 1), padding=(1, 1), bias=False)\n",
              "      (bn): BatchNorm2d(96, eps=0.001, momentum=0.1, affine=True, track_running_stats=True)\n",
              "    )\n",
              "    (branch_pool): BasicConv2d(\n",
              "      (conv): Conv2d(256, 64, kernel_size=(1, 1), stride=(1, 1), bias=False)\n",
              "      (bn): BatchNorm2d(64, eps=0.001, momentum=0.1, affine=True, track_running_stats=True)\n",
              "    )\n",
              "  )\n",
              "  (Mixed_5d): InceptionA(\n",
              "    (branch1x1): BasicConv2d(\n",
              "      (conv): Conv2d(288, 64, kernel_size=(1, 1), stride=(1, 1), bias=False)\n",
              "      (bn): BatchNorm2d(64, eps=0.001, momentum=0.1, affine=True, track_running_stats=True)\n",
              "    )\n",
              "    (branch5x5_1): BasicConv2d(\n",
              "      (conv): Conv2d(288, 48, kernel_size=(1, 1), stride=(1, 1), bias=False)\n",
              "      (bn): BatchNorm2d(48, eps=0.001, momentum=0.1, affine=True, track_running_stats=True)\n",
              "    )\n",
              "    (branch5x5_2): BasicConv2d(\n",
              "      (conv): Conv2d(48, 64, kernel_size=(5, 5), stride=(1, 1), padding=(2, 2), bias=False)\n",
              "      (bn): BatchNorm2d(64, eps=0.001, momentum=0.1, affine=True, track_running_stats=True)\n",
              "    )\n",
              "    (branch3x3dbl_1): BasicConv2d(\n",
              "      (conv): Conv2d(288, 64, kernel_size=(1, 1), stride=(1, 1), bias=False)\n",
              "      (bn): BatchNorm2d(64, eps=0.001, momentum=0.1, affine=True, track_running_stats=True)\n",
              "    )\n",
              "    (branch3x3dbl_2): BasicConv2d(\n",
              "      (conv): Conv2d(64, 96, kernel_size=(3, 3), stride=(1, 1), padding=(1, 1), bias=False)\n",
              "      (bn): BatchNorm2d(96, eps=0.001, momentum=0.1, affine=True, track_running_stats=True)\n",
              "    )\n",
              "    (branch3x3dbl_3): BasicConv2d(\n",
              "      (conv): Conv2d(96, 96, kernel_size=(3, 3), stride=(1, 1), padding=(1, 1), bias=False)\n",
              "      (bn): BatchNorm2d(96, eps=0.001, momentum=0.1, affine=True, track_running_stats=True)\n",
              "    )\n",
              "    (branch_pool): BasicConv2d(\n",
              "      (conv): Conv2d(288, 64, kernel_size=(1, 1), stride=(1, 1), bias=False)\n",
              "      (bn): BatchNorm2d(64, eps=0.001, momentum=0.1, affine=True, track_running_stats=True)\n",
              "    )\n",
              "  )\n",
              "  (Mixed_6a): InceptionB(\n",
              "    (branch3x3): BasicConv2d(\n",
              "      (conv): Conv2d(288, 384, kernel_size=(3, 3), stride=(2, 2), bias=False)\n",
              "      (bn): BatchNorm2d(384, eps=0.001, momentum=0.1, affine=True, track_running_stats=True)\n",
              "    )\n",
              "    (branch3x3dbl_1): BasicConv2d(\n",
              "      (conv): Conv2d(288, 64, kernel_size=(1, 1), stride=(1, 1), bias=False)\n",
              "      (bn): BatchNorm2d(64, eps=0.001, momentum=0.1, affine=True, track_running_stats=True)\n",
              "    )\n",
              "    (branch3x3dbl_2): BasicConv2d(\n",
              "      (conv): Conv2d(64, 96, kernel_size=(3, 3), stride=(1, 1), padding=(1, 1), bias=False)\n",
              "      (bn): BatchNorm2d(96, eps=0.001, momentum=0.1, affine=True, track_running_stats=True)\n",
              "    )\n",
              "    (branch3x3dbl_3): BasicConv2d(\n",
              "      (conv): Conv2d(96, 96, kernel_size=(3, 3), stride=(2, 2), bias=False)\n",
              "      (bn): BatchNorm2d(96, eps=0.001, momentum=0.1, affine=True, track_running_stats=True)\n",
              "    )\n",
              "  )\n",
              "  (Mixed_6b): InceptionC(\n",
              "    (branch1x1): BasicConv2d(\n",
              "      (conv): Conv2d(768, 192, kernel_size=(1, 1), stride=(1, 1), bias=False)\n",
              "      (bn): BatchNorm2d(192, eps=0.001, momentum=0.1, affine=True, track_running_stats=True)\n",
              "    )\n",
              "    (branch7x7_1): BasicConv2d(\n",
              "      (conv): Conv2d(768, 128, kernel_size=(1, 1), stride=(1, 1), bias=False)\n",
              "      (bn): BatchNorm2d(128, eps=0.001, momentum=0.1, affine=True, track_running_stats=True)\n",
              "    )\n",
              "    (branch7x7_2): BasicConv2d(\n",
              "      (conv): Conv2d(128, 128, kernel_size=(1, 7), stride=(1, 1), padding=(0, 3), bias=False)\n",
              "      (bn): BatchNorm2d(128, eps=0.001, momentum=0.1, affine=True, track_running_stats=True)\n",
              "    )\n",
              "    (branch7x7_3): BasicConv2d(\n",
              "      (conv): Conv2d(128, 192, kernel_size=(7, 1), stride=(1, 1), padding=(3, 0), bias=False)\n",
              "      (bn): BatchNorm2d(192, eps=0.001, momentum=0.1, affine=True, track_running_stats=True)\n",
              "    )\n",
              "    (branch7x7dbl_1): BasicConv2d(\n",
              "      (conv): Conv2d(768, 128, kernel_size=(1, 1), stride=(1, 1), bias=False)\n",
              "      (bn): BatchNorm2d(128, eps=0.001, momentum=0.1, affine=True, track_running_stats=True)\n",
              "    )\n",
              "    (branch7x7dbl_2): BasicConv2d(\n",
              "      (conv): Conv2d(128, 128, kernel_size=(7, 1), stride=(1, 1), padding=(3, 0), bias=False)\n",
              "      (bn): BatchNorm2d(128, eps=0.001, momentum=0.1, affine=True, track_running_stats=True)\n",
              "    )\n",
              "    (branch7x7dbl_3): BasicConv2d(\n",
              "      (conv): Conv2d(128, 128, kernel_size=(1, 7), stride=(1, 1), padding=(0, 3), bias=False)\n",
              "      (bn): BatchNorm2d(128, eps=0.001, momentum=0.1, affine=True, track_running_stats=True)\n",
              "    )\n",
              "    (branch7x7dbl_4): BasicConv2d(\n",
              "      (conv): Conv2d(128, 128, kernel_size=(7, 1), stride=(1, 1), padding=(3, 0), bias=False)\n",
              "      (bn): BatchNorm2d(128, eps=0.001, momentum=0.1, affine=True, track_running_stats=True)\n",
              "    )\n",
              "    (branch7x7dbl_5): BasicConv2d(\n",
              "      (conv): Conv2d(128, 192, kernel_size=(1, 7), stride=(1, 1), padding=(0, 3), bias=False)\n",
              "      (bn): BatchNorm2d(192, eps=0.001, momentum=0.1, affine=True, track_running_stats=True)\n",
              "    )\n",
              "    (branch_pool): BasicConv2d(\n",
              "      (conv): Conv2d(768, 192, kernel_size=(1, 1), stride=(1, 1), bias=False)\n",
              "      (bn): BatchNorm2d(192, eps=0.001, momentum=0.1, affine=True, track_running_stats=True)\n",
              "    )\n",
              "  )\n",
              "  (Mixed_6c): InceptionC(\n",
              "    (branch1x1): BasicConv2d(\n",
              "      (conv): Conv2d(768, 192, kernel_size=(1, 1), stride=(1, 1), bias=False)\n",
              "      (bn): BatchNorm2d(192, eps=0.001, momentum=0.1, affine=True, track_running_stats=True)\n",
              "    )\n",
              "    (branch7x7_1): BasicConv2d(\n",
              "      (conv): Conv2d(768, 160, kernel_size=(1, 1), stride=(1, 1), bias=False)\n",
              "      (bn): BatchNorm2d(160, eps=0.001, momentum=0.1, affine=True, track_running_stats=True)\n",
              "    )\n",
              "    (branch7x7_2): BasicConv2d(\n",
              "      (conv): Conv2d(160, 160, kernel_size=(1, 7), stride=(1, 1), padding=(0, 3), bias=False)\n",
              "      (bn): BatchNorm2d(160, eps=0.001, momentum=0.1, affine=True, track_running_stats=True)\n",
              "    )\n",
              "    (branch7x7_3): BasicConv2d(\n",
              "      (conv): Conv2d(160, 192, kernel_size=(7, 1), stride=(1, 1), padding=(3, 0), bias=False)\n",
              "      (bn): BatchNorm2d(192, eps=0.001, momentum=0.1, affine=True, track_running_stats=True)\n",
              "    )\n",
              "    (branch7x7dbl_1): BasicConv2d(\n",
              "      (conv): Conv2d(768, 160, kernel_size=(1, 1), stride=(1, 1), bias=False)\n",
              "      (bn): BatchNorm2d(160, eps=0.001, momentum=0.1, affine=True, track_running_stats=True)\n",
              "    )\n",
              "    (branch7x7dbl_2): BasicConv2d(\n",
              "      (conv): Conv2d(160, 160, kernel_size=(7, 1), stride=(1, 1), padding=(3, 0), bias=False)\n",
              "      (bn): BatchNorm2d(160, eps=0.001, momentum=0.1, affine=True, track_running_stats=True)\n",
              "    )\n",
              "    (branch7x7dbl_3): BasicConv2d(\n",
              "      (conv): Conv2d(160, 160, kernel_size=(1, 7), stride=(1, 1), padding=(0, 3), bias=False)\n",
              "      (bn): BatchNorm2d(160, eps=0.001, momentum=0.1, affine=True, track_running_stats=True)\n",
              "    )\n",
              "    (branch7x7dbl_4): BasicConv2d(\n",
              "      (conv): Conv2d(160, 160, kernel_size=(7, 1), stride=(1, 1), padding=(3, 0), bias=False)\n",
              "      (bn): BatchNorm2d(160, eps=0.001, momentum=0.1, affine=True, track_running_stats=True)\n",
              "    )\n",
              "    (branch7x7dbl_5): BasicConv2d(\n",
              "      (conv): Conv2d(160, 192, kernel_size=(1, 7), stride=(1, 1), padding=(0, 3), bias=False)\n",
              "      (bn): BatchNorm2d(192, eps=0.001, momentum=0.1, affine=True, track_running_stats=True)\n",
              "    )\n",
              "    (branch_pool): BasicConv2d(\n",
              "      (conv): Conv2d(768, 192, kernel_size=(1, 1), stride=(1, 1), bias=False)\n",
              "      (bn): BatchNorm2d(192, eps=0.001, momentum=0.1, affine=True, track_running_stats=True)\n",
              "    )\n",
              "  )\n",
              "  (Mixed_6d): InceptionC(\n",
              "    (branch1x1): BasicConv2d(\n",
              "      (conv): Conv2d(768, 192, kernel_size=(1, 1), stride=(1, 1), bias=False)\n",
              "      (bn): BatchNorm2d(192, eps=0.001, momentum=0.1, affine=True, track_running_stats=True)\n",
              "    )\n",
              "    (branch7x7_1): BasicConv2d(\n",
              "      (conv): Conv2d(768, 160, kernel_size=(1, 1), stride=(1, 1), bias=False)\n",
              "      (bn): BatchNorm2d(160, eps=0.001, momentum=0.1, affine=True, track_running_stats=True)\n",
              "    )\n",
              "    (branch7x7_2): BasicConv2d(\n",
              "      (conv): Conv2d(160, 160, kernel_size=(1, 7), stride=(1, 1), padding=(0, 3), bias=False)\n",
              "      (bn): BatchNorm2d(160, eps=0.001, momentum=0.1, affine=True, track_running_stats=True)\n",
              "    )\n",
              "    (branch7x7_3): BasicConv2d(\n",
              "      (conv): Conv2d(160, 192, kernel_size=(7, 1), stride=(1, 1), padding=(3, 0), bias=False)\n",
              "      (bn): BatchNorm2d(192, eps=0.001, momentum=0.1, affine=True, track_running_stats=True)\n",
              "    )\n",
              "    (branch7x7dbl_1): BasicConv2d(\n",
              "      (conv): Conv2d(768, 160, kernel_size=(1, 1), stride=(1, 1), bias=False)\n",
              "      (bn): BatchNorm2d(160, eps=0.001, momentum=0.1, affine=True, track_running_stats=True)\n",
              "    )\n",
              "    (branch7x7dbl_2): BasicConv2d(\n",
              "      (conv): Conv2d(160, 160, kernel_size=(7, 1), stride=(1, 1), padding=(3, 0), bias=False)\n",
              "      (bn): BatchNorm2d(160, eps=0.001, momentum=0.1, affine=True, track_running_stats=True)\n",
              "    )\n",
              "    (branch7x7dbl_3): BasicConv2d(\n",
              "      (conv): Conv2d(160, 160, kernel_size=(1, 7), stride=(1, 1), padding=(0, 3), bias=False)\n",
              "      (bn): BatchNorm2d(160, eps=0.001, momentum=0.1, affine=True, track_running_stats=True)\n",
              "    )\n",
              "    (branch7x7dbl_4): BasicConv2d(\n",
              "      (conv): Conv2d(160, 160, kernel_size=(7, 1), stride=(1, 1), padding=(3, 0), bias=False)\n",
              "      (bn): BatchNorm2d(160, eps=0.001, momentum=0.1, affine=True, track_running_stats=True)\n",
              "    )\n",
              "    (branch7x7dbl_5): BasicConv2d(\n",
              "      (conv): Conv2d(160, 192, kernel_size=(1, 7), stride=(1, 1), padding=(0, 3), bias=False)\n",
              "      (bn): BatchNorm2d(192, eps=0.001, momentum=0.1, affine=True, track_running_stats=True)\n",
              "    )\n",
              "    (branch_pool): BasicConv2d(\n",
              "      (conv): Conv2d(768, 192, kernel_size=(1, 1), stride=(1, 1), bias=False)\n",
              "      (bn): BatchNorm2d(192, eps=0.001, momentum=0.1, affine=True, track_running_stats=True)\n",
              "    )\n",
              "  )\n",
              "  (Mixed_6e): InceptionC(\n",
              "    (branch1x1): BasicConv2d(\n",
              "      (conv): Conv2d(768, 192, kernel_size=(1, 1), stride=(1, 1), bias=False)\n",
              "      (bn): BatchNorm2d(192, eps=0.001, momentum=0.1, affine=True, track_running_stats=True)\n",
              "    )\n",
              "    (branch7x7_1): BasicConv2d(\n",
              "      (conv): Conv2d(768, 192, kernel_size=(1, 1), stride=(1, 1), bias=False)\n",
              "      (bn): BatchNorm2d(192, eps=0.001, momentum=0.1, affine=True, track_running_stats=True)\n",
              "    )\n",
              "    (branch7x7_2): BasicConv2d(\n",
              "      (conv): Conv2d(192, 192, kernel_size=(1, 7), stride=(1, 1), padding=(0, 3), bias=False)\n",
              "      (bn): BatchNorm2d(192, eps=0.001, momentum=0.1, affine=True, track_running_stats=True)\n",
              "    )\n",
              "    (branch7x7_3): BasicConv2d(\n",
              "      (conv): Conv2d(192, 192, kernel_size=(7, 1), stride=(1, 1), padding=(3, 0), bias=False)\n",
              "      (bn): BatchNorm2d(192, eps=0.001, momentum=0.1, affine=True, track_running_stats=True)\n",
              "    )\n",
              "    (branch7x7dbl_1): BasicConv2d(\n",
              "      (conv): Conv2d(768, 192, kernel_size=(1, 1), stride=(1, 1), bias=False)\n",
              "      (bn): BatchNorm2d(192, eps=0.001, momentum=0.1, affine=True, track_running_stats=True)\n",
              "    )\n",
              "    (branch7x7dbl_2): BasicConv2d(\n",
              "      (conv): Conv2d(192, 192, kernel_size=(7, 1), stride=(1, 1), padding=(3, 0), bias=False)\n",
              "      (bn): BatchNorm2d(192, eps=0.001, momentum=0.1, affine=True, track_running_stats=True)\n",
              "    )\n",
              "    (branch7x7dbl_3): BasicConv2d(\n",
              "      (conv): Conv2d(192, 192, kernel_size=(1, 7), stride=(1, 1), padding=(0, 3), bias=False)\n",
              "      (bn): BatchNorm2d(192, eps=0.001, momentum=0.1, affine=True, track_running_stats=True)\n",
              "    )\n",
              "    (branch7x7dbl_4): BasicConv2d(\n",
              "      (conv): Conv2d(192, 192, kernel_size=(7, 1), stride=(1, 1), padding=(3, 0), bias=False)\n",
              "      (bn): BatchNorm2d(192, eps=0.001, momentum=0.1, affine=True, track_running_stats=True)\n",
              "    )\n",
              "    (branch7x7dbl_5): BasicConv2d(\n",
              "      (conv): Conv2d(192, 192, kernel_size=(1, 7), stride=(1, 1), padding=(0, 3), bias=False)\n",
              "      (bn): BatchNorm2d(192, eps=0.001, momentum=0.1, affine=True, track_running_stats=True)\n",
              "    )\n",
              "    (branch_pool): BasicConv2d(\n",
              "      (conv): Conv2d(768, 192, kernel_size=(1, 1), stride=(1, 1), bias=False)\n",
              "      (bn): BatchNorm2d(192, eps=0.001, momentum=0.1, affine=True, track_running_stats=True)\n",
              "    )\n",
              "  )\n",
              "  (AuxLogits): InceptionAux(\n",
              "    (conv0): BasicConv2d(\n",
              "      (conv): Conv2d(768, 128, kernel_size=(1, 1), stride=(1, 1), bias=False)\n",
              "      (bn): BatchNorm2d(128, eps=0.001, momentum=0.1, affine=True, track_running_stats=True)\n",
              "    )\n",
              "    (conv1): BasicConv2d(\n",
              "      (conv): Conv2d(128, 768, kernel_size=(5, 5), stride=(1, 1), bias=False)\n",
              "      (bn): BatchNorm2d(768, eps=0.001, momentum=0.1, affine=True, track_running_stats=True)\n",
              "    )\n",
              "    (fc): Linear(in_features=768, out_features=1000, bias=True)\n",
              "  )\n",
              "  (Mixed_7a): InceptionD(\n",
              "    (branch3x3_1): BasicConv2d(\n",
              "      (conv): Conv2d(768, 192, kernel_size=(1, 1), stride=(1, 1), bias=False)\n",
              "      (bn): BatchNorm2d(192, eps=0.001, momentum=0.1, affine=True, track_running_stats=True)\n",
              "    )\n",
              "    (branch3x3_2): BasicConv2d(\n",
              "      (conv): Conv2d(192, 320, kernel_size=(3, 3), stride=(2, 2), bias=False)\n",
              "      (bn): BatchNorm2d(320, eps=0.001, momentum=0.1, affine=True, track_running_stats=True)\n",
              "    )\n",
              "    (branch7x7x3_1): BasicConv2d(\n",
              "      (conv): Conv2d(768, 192, kernel_size=(1, 1), stride=(1, 1), bias=False)\n",
              "      (bn): BatchNorm2d(192, eps=0.001, momentum=0.1, affine=True, track_running_stats=True)\n",
              "    )\n",
              "    (branch7x7x3_2): BasicConv2d(\n",
              "      (conv): Conv2d(192, 192, kernel_size=(1, 7), stride=(1, 1), padding=(0, 3), bias=False)\n",
              "      (bn): BatchNorm2d(192, eps=0.001, momentum=0.1, affine=True, track_running_stats=True)\n",
              "    )\n",
              "    (branch7x7x3_3): BasicConv2d(\n",
              "      (conv): Conv2d(192, 192, kernel_size=(7, 1), stride=(1, 1), padding=(3, 0), bias=False)\n",
              "      (bn): BatchNorm2d(192, eps=0.001, momentum=0.1, affine=True, track_running_stats=True)\n",
              "    )\n",
              "    (branch7x7x3_4): BasicConv2d(\n",
              "      (conv): Conv2d(192, 192, kernel_size=(3, 3), stride=(2, 2), bias=False)\n",
              "      (bn): BatchNorm2d(192, eps=0.001, momentum=0.1, affine=True, track_running_stats=True)\n",
              "    )\n",
              "  )\n",
              "  (Mixed_7b): InceptionE(\n",
              "    (branch1x1): BasicConv2d(\n",
              "      (conv): Conv2d(1280, 320, kernel_size=(1, 1), stride=(1, 1), bias=False)\n",
              "      (bn): BatchNorm2d(320, eps=0.001, momentum=0.1, affine=True, track_running_stats=True)\n",
              "    )\n",
              "    (branch3x3_1): BasicConv2d(\n",
              "      (conv): Conv2d(1280, 384, kernel_size=(1, 1), stride=(1, 1), bias=False)\n",
              "      (bn): BatchNorm2d(384, eps=0.001, momentum=0.1, affine=True, track_running_stats=True)\n",
              "    )\n",
              "    (branch3x3_2a): BasicConv2d(\n",
              "      (conv): Conv2d(384, 384, kernel_size=(1, 3), stride=(1, 1), padding=(0, 1), bias=False)\n",
              "      (bn): BatchNorm2d(384, eps=0.001, momentum=0.1, affine=True, track_running_stats=True)\n",
              "    )\n",
              "    (branch3x3_2b): BasicConv2d(\n",
              "      (conv): Conv2d(384, 384, kernel_size=(3, 1), stride=(1, 1), padding=(1, 0), bias=False)\n",
              "      (bn): BatchNorm2d(384, eps=0.001, momentum=0.1, affine=True, track_running_stats=True)\n",
              "    )\n",
              "    (branch3x3dbl_1): BasicConv2d(\n",
              "      (conv): Conv2d(1280, 448, kernel_size=(1, 1), stride=(1, 1), bias=False)\n",
              "      (bn): BatchNorm2d(448, eps=0.001, momentum=0.1, affine=True, track_running_stats=True)\n",
              "    )\n",
              "    (branch3x3dbl_2): BasicConv2d(\n",
              "      (conv): Conv2d(448, 384, kernel_size=(3, 3), stride=(1, 1), padding=(1, 1), bias=False)\n",
              "      (bn): BatchNorm2d(384, eps=0.001, momentum=0.1, affine=True, track_running_stats=True)\n",
              "    )\n",
              "    (branch3x3dbl_3a): BasicConv2d(\n",
              "      (conv): Conv2d(384, 384, kernel_size=(1, 3), stride=(1, 1), padding=(0, 1), bias=False)\n",
              "      (bn): BatchNorm2d(384, eps=0.001, momentum=0.1, affine=True, track_running_stats=True)\n",
              "    )\n",
              "    (branch3x3dbl_3b): BasicConv2d(\n",
              "      (conv): Conv2d(384, 384, kernel_size=(3, 1), stride=(1, 1), padding=(1, 0), bias=False)\n",
              "      (bn): BatchNorm2d(384, eps=0.001, momentum=0.1, affine=True, track_running_stats=True)\n",
              "    )\n",
              "    (branch_pool): BasicConv2d(\n",
              "      (conv): Conv2d(1280, 192, kernel_size=(1, 1), stride=(1, 1), bias=False)\n",
              "      (bn): BatchNorm2d(192, eps=0.001, momentum=0.1, affine=True, track_running_stats=True)\n",
              "    )\n",
              "  )\n",
              "  (Mixed_7c): InceptionE(\n",
              "    (branch1x1): BasicConv2d(\n",
              "      (conv): Conv2d(2048, 320, kernel_size=(1, 1), stride=(1, 1), bias=False)\n",
              "      (bn): BatchNorm2d(320, eps=0.001, momentum=0.1, affine=True, track_running_stats=True)\n",
              "    )\n",
              "    (branch3x3_1): BasicConv2d(\n",
              "      (conv): Conv2d(2048, 384, kernel_size=(1, 1), stride=(1, 1), bias=False)\n",
              "      (bn): BatchNorm2d(384, eps=0.001, momentum=0.1, affine=True, track_running_stats=True)\n",
              "    )\n",
              "    (branch3x3_2a): BasicConv2d(\n",
              "      (conv): Conv2d(384, 384, kernel_size=(1, 3), stride=(1, 1), padding=(0, 1), bias=False)\n",
              "      (bn): BatchNorm2d(384, eps=0.001, momentum=0.1, affine=True, track_running_stats=True)\n",
              "    )\n",
              "    (branch3x3_2b): BasicConv2d(\n",
              "      (conv): Conv2d(384, 384, kernel_size=(3, 1), stride=(1, 1), padding=(1, 0), bias=False)\n",
              "      (bn): BatchNorm2d(384, eps=0.001, momentum=0.1, affine=True, track_running_stats=True)\n",
              "    )\n",
              "    (branch3x3dbl_1): BasicConv2d(\n",
              "      (conv): Conv2d(2048, 448, kernel_size=(1, 1), stride=(1, 1), bias=False)\n",
              "      (bn): BatchNorm2d(448, eps=0.001, momentum=0.1, affine=True, track_running_stats=True)\n",
              "    )\n",
              "    (branch3x3dbl_2): BasicConv2d(\n",
              "      (conv): Conv2d(448, 384, kernel_size=(3, 3), stride=(1, 1), padding=(1, 1), bias=False)\n",
              "      (bn): BatchNorm2d(384, eps=0.001, momentum=0.1, affine=True, track_running_stats=True)\n",
              "    )\n",
              "    (branch3x3dbl_3a): BasicConv2d(\n",
              "      (conv): Conv2d(384, 384, kernel_size=(1, 3), stride=(1, 1), padding=(0, 1), bias=False)\n",
              "      (bn): BatchNorm2d(384, eps=0.001, momentum=0.1, affine=True, track_running_stats=True)\n",
              "    )\n",
              "    (branch3x3dbl_3b): BasicConv2d(\n",
              "      (conv): Conv2d(384, 384, kernel_size=(3, 1), stride=(1, 1), padding=(1, 0), bias=False)\n",
              "      (bn): BatchNorm2d(384, eps=0.001, momentum=0.1, affine=True, track_running_stats=True)\n",
              "    )\n",
              "    (branch_pool): BasicConv2d(\n",
              "      (conv): Conv2d(2048, 192, kernel_size=(1, 1), stride=(1, 1), bias=False)\n",
              "      (bn): BatchNorm2d(192, eps=0.001, momentum=0.1, affine=True, track_running_stats=True)\n",
              "    )\n",
              "  )\n",
              "  (fc): Linear(in_features=2048, out_features=1000, bias=True)\n",
              ")"
            ]
          },
          "metadata": {
            "tags": []
          },
          "execution_count": 13
        }
      ]
    },
    {
      "metadata": {
        "id": "WhtMgbcLObre",
        "colab_type": "code",
        "colab": {}
      },
      "cell_type": "code",
      "source": [
        "if is_cuda:\n",
        "    my_inception = my_inception.cuda()"
      ],
      "execution_count": 0,
      "outputs": []
    },
    {
      "metadata": {
        "id": "ZkG4cGpeWRbw",
        "colab_type": "code",
        "outputId": "9093d7fa-d948-464d-f786-4d5734acf7d1",
        "colab": {
          "base_uri": "https://localhost:8080/",
          "height": 35
        }
      },
      "cell_type": "code",
      "source": [
        "!pip install torchsummary"
      ],
      "execution_count": 15,
      "outputs": [
        {
          "output_type": "stream",
          "text": [
            "Requirement already satisfied: torchsummary in /usr/local/lib/python3.6/dist-packages (1.5.1)\n"
          ],
          "name": "stdout"
        }
      ]
    },
    {
      "metadata": {
        "id": "1aKw6YC1PWno",
        "colab_type": "code",
        "outputId": "ef34788a-765b-4446-e8fa-763235b7d9b2",
        "colab": {
          "base_uri": "https://localhost:8080/",
          "height": 5339
        }
      },
      "cell_type": "code",
      "source": [
        "from torchsummary import summary\n",
        "\n",
        "summary(my_inception, (3, 299, 299))"
      ],
      "execution_count": 16,
      "outputs": [
        {
          "output_type": "stream",
          "text": [
            "----------------------------------------------------------------\n",
            "        Layer (type)               Output Shape         Param #\n",
            "================================================================\n",
            "            Conv2d-1         [-1, 32, 149, 149]             864\n",
            "       BatchNorm2d-2         [-1, 32, 149, 149]              64\n",
            "       BasicConv2d-3         [-1, 32, 149, 149]               0\n",
            "            Conv2d-4         [-1, 32, 147, 147]           9,216\n",
            "       BatchNorm2d-5         [-1, 32, 147, 147]              64\n",
            "       BasicConv2d-6         [-1, 32, 147, 147]               0\n",
            "            Conv2d-7         [-1, 64, 147, 147]          18,432\n",
            "       BatchNorm2d-8         [-1, 64, 147, 147]             128\n",
            "       BasicConv2d-9         [-1, 64, 147, 147]               0\n",
            "           Conv2d-10           [-1, 80, 73, 73]           5,120\n",
            "      BatchNorm2d-11           [-1, 80, 73, 73]             160\n",
            "      BasicConv2d-12           [-1, 80, 73, 73]               0\n",
            "           Conv2d-13          [-1, 192, 71, 71]         138,240\n",
            "      BatchNorm2d-14          [-1, 192, 71, 71]             384\n",
            "      BasicConv2d-15          [-1, 192, 71, 71]               0\n",
            "           Conv2d-16           [-1, 64, 35, 35]          12,288\n",
            "      BatchNorm2d-17           [-1, 64, 35, 35]             128\n",
            "      BasicConv2d-18           [-1, 64, 35, 35]               0\n",
            "           Conv2d-19           [-1, 48, 35, 35]           9,216\n",
            "      BatchNorm2d-20           [-1, 48, 35, 35]              96\n",
            "      BasicConv2d-21           [-1, 48, 35, 35]               0\n",
            "           Conv2d-22           [-1, 64, 35, 35]          76,800\n",
            "      BatchNorm2d-23           [-1, 64, 35, 35]             128\n",
            "      BasicConv2d-24           [-1, 64, 35, 35]               0\n",
            "           Conv2d-25           [-1, 64, 35, 35]          12,288\n",
            "      BatchNorm2d-26           [-1, 64, 35, 35]             128\n",
            "      BasicConv2d-27           [-1, 64, 35, 35]               0\n",
            "           Conv2d-28           [-1, 96, 35, 35]          55,296\n",
            "      BatchNorm2d-29           [-1, 96, 35, 35]             192\n",
            "      BasicConv2d-30           [-1, 96, 35, 35]               0\n",
            "           Conv2d-31           [-1, 96, 35, 35]          82,944\n",
            "      BatchNorm2d-32           [-1, 96, 35, 35]             192\n",
            "      BasicConv2d-33           [-1, 96, 35, 35]               0\n",
            "           Conv2d-34           [-1, 32, 35, 35]           6,144\n",
            "      BatchNorm2d-35           [-1, 32, 35, 35]              64\n",
            "      BasicConv2d-36           [-1, 32, 35, 35]               0\n",
            "       InceptionA-37          [-1, 256, 35, 35]               0\n",
            "           Conv2d-38           [-1, 64, 35, 35]          16,384\n",
            "      BatchNorm2d-39           [-1, 64, 35, 35]             128\n",
            "      BasicConv2d-40           [-1, 64, 35, 35]               0\n",
            "           Conv2d-41           [-1, 48, 35, 35]          12,288\n",
            "      BatchNorm2d-42           [-1, 48, 35, 35]              96\n",
            "      BasicConv2d-43           [-1, 48, 35, 35]               0\n",
            "           Conv2d-44           [-1, 64, 35, 35]          76,800\n",
            "      BatchNorm2d-45           [-1, 64, 35, 35]             128\n",
            "      BasicConv2d-46           [-1, 64, 35, 35]               0\n",
            "           Conv2d-47           [-1, 64, 35, 35]          16,384\n",
            "      BatchNorm2d-48           [-1, 64, 35, 35]             128\n",
            "      BasicConv2d-49           [-1, 64, 35, 35]               0\n",
            "           Conv2d-50           [-1, 96, 35, 35]          55,296\n",
            "      BatchNorm2d-51           [-1, 96, 35, 35]             192\n",
            "      BasicConv2d-52           [-1, 96, 35, 35]               0\n",
            "           Conv2d-53           [-1, 96, 35, 35]          82,944\n",
            "      BatchNorm2d-54           [-1, 96, 35, 35]             192\n",
            "      BasicConv2d-55           [-1, 96, 35, 35]               0\n",
            "           Conv2d-56           [-1, 64, 35, 35]          16,384\n",
            "      BatchNorm2d-57           [-1, 64, 35, 35]             128\n",
            "      BasicConv2d-58           [-1, 64, 35, 35]               0\n",
            "       InceptionA-59          [-1, 288, 35, 35]               0\n",
            "           Conv2d-60           [-1, 64, 35, 35]          18,432\n",
            "      BatchNorm2d-61           [-1, 64, 35, 35]             128\n",
            "      BasicConv2d-62           [-1, 64, 35, 35]               0\n",
            "           Conv2d-63           [-1, 48, 35, 35]          13,824\n",
            "      BatchNorm2d-64           [-1, 48, 35, 35]              96\n",
            "      BasicConv2d-65           [-1, 48, 35, 35]               0\n",
            "           Conv2d-66           [-1, 64, 35, 35]          76,800\n",
            "      BatchNorm2d-67           [-1, 64, 35, 35]             128\n",
            "      BasicConv2d-68           [-1, 64, 35, 35]               0\n",
            "           Conv2d-69           [-1, 64, 35, 35]          18,432\n",
            "      BatchNorm2d-70           [-1, 64, 35, 35]             128\n",
            "      BasicConv2d-71           [-1, 64, 35, 35]               0\n",
            "           Conv2d-72           [-1, 96, 35, 35]          55,296\n",
            "      BatchNorm2d-73           [-1, 96, 35, 35]             192\n",
            "      BasicConv2d-74           [-1, 96, 35, 35]               0\n",
            "           Conv2d-75           [-1, 96, 35, 35]          82,944\n",
            "      BatchNorm2d-76           [-1, 96, 35, 35]             192\n",
            "      BasicConv2d-77           [-1, 96, 35, 35]               0\n",
            "           Conv2d-78           [-1, 64, 35, 35]          18,432\n",
            "      BatchNorm2d-79           [-1, 64, 35, 35]             128\n",
            "      BasicConv2d-80           [-1, 64, 35, 35]               0\n",
            "       InceptionA-81          [-1, 288, 35, 35]               0\n",
            "           Conv2d-82          [-1, 384, 17, 17]         995,328\n",
            "      BatchNorm2d-83          [-1, 384, 17, 17]             768\n",
            "      BasicConv2d-84          [-1, 384, 17, 17]               0\n",
            "           Conv2d-85           [-1, 64, 35, 35]          18,432\n",
            "      BatchNorm2d-86           [-1, 64, 35, 35]             128\n",
            "      BasicConv2d-87           [-1, 64, 35, 35]               0\n",
            "           Conv2d-88           [-1, 96, 35, 35]          55,296\n",
            "      BatchNorm2d-89           [-1, 96, 35, 35]             192\n",
            "      BasicConv2d-90           [-1, 96, 35, 35]               0\n",
            "           Conv2d-91           [-1, 96, 17, 17]          82,944\n",
            "      BatchNorm2d-92           [-1, 96, 17, 17]             192\n",
            "      BasicConv2d-93           [-1, 96, 17, 17]               0\n",
            "       InceptionB-94          [-1, 768, 17, 17]               0\n",
            "           Conv2d-95          [-1, 192, 17, 17]         147,456\n",
            "      BatchNorm2d-96          [-1, 192, 17, 17]             384\n",
            "      BasicConv2d-97          [-1, 192, 17, 17]               0\n",
            "           Conv2d-98          [-1, 128, 17, 17]          98,304\n",
            "      BatchNorm2d-99          [-1, 128, 17, 17]             256\n",
            "     BasicConv2d-100          [-1, 128, 17, 17]               0\n",
            "          Conv2d-101          [-1, 128, 17, 17]         114,688\n",
            "     BatchNorm2d-102          [-1, 128, 17, 17]             256\n",
            "     BasicConv2d-103          [-1, 128, 17, 17]               0\n",
            "          Conv2d-104          [-1, 192, 17, 17]         172,032\n",
            "     BatchNorm2d-105          [-1, 192, 17, 17]             384\n",
            "     BasicConv2d-106          [-1, 192, 17, 17]               0\n",
            "          Conv2d-107          [-1, 128, 17, 17]          98,304\n",
            "     BatchNorm2d-108          [-1, 128, 17, 17]             256\n",
            "     BasicConv2d-109          [-1, 128, 17, 17]               0\n",
            "          Conv2d-110          [-1, 128, 17, 17]         114,688\n",
            "     BatchNorm2d-111          [-1, 128, 17, 17]             256\n",
            "     BasicConv2d-112          [-1, 128, 17, 17]               0\n",
            "          Conv2d-113          [-1, 128, 17, 17]         114,688\n",
            "     BatchNorm2d-114          [-1, 128, 17, 17]             256\n",
            "     BasicConv2d-115          [-1, 128, 17, 17]               0\n",
            "          Conv2d-116          [-1, 128, 17, 17]         114,688\n",
            "     BatchNorm2d-117          [-1, 128, 17, 17]             256\n",
            "     BasicConv2d-118          [-1, 128, 17, 17]               0\n",
            "          Conv2d-119          [-1, 192, 17, 17]         172,032\n",
            "     BatchNorm2d-120          [-1, 192, 17, 17]             384\n",
            "     BasicConv2d-121          [-1, 192, 17, 17]               0\n",
            "          Conv2d-122          [-1, 192, 17, 17]         147,456\n",
            "     BatchNorm2d-123          [-1, 192, 17, 17]             384\n",
            "     BasicConv2d-124          [-1, 192, 17, 17]               0\n",
            "      InceptionC-125          [-1, 768, 17, 17]               0\n",
            "          Conv2d-126          [-1, 192, 17, 17]         147,456\n",
            "     BatchNorm2d-127          [-1, 192, 17, 17]             384\n",
            "     BasicConv2d-128          [-1, 192, 17, 17]               0\n",
            "          Conv2d-129          [-1, 160, 17, 17]         122,880\n",
            "     BatchNorm2d-130          [-1, 160, 17, 17]             320\n",
            "     BasicConv2d-131          [-1, 160, 17, 17]               0\n",
            "          Conv2d-132          [-1, 160, 17, 17]         179,200\n",
            "     BatchNorm2d-133          [-1, 160, 17, 17]             320\n",
            "     BasicConv2d-134          [-1, 160, 17, 17]               0\n",
            "          Conv2d-135          [-1, 192, 17, 17]         215,040\n",
            "     BatchNorm2d-136          [-1, 192, 17, 17]             384\n",
            "     BasicConv2d-137          [-1, 192, 17, 17]               0\n",
            "          Conv2d-138          [-1, 160, 17, 17]         122,880\n",
            "     BatchNorm2d-139          [-1, 160, 17, 17]             320\n",
            "     BasicConv2d-140          [-1, 160, 17, 17]               0\n",
            "          Conv2d-141          [-1, 160, 17, 17]         179,200\n",
            "     BatchNorm2d-142          [-1, 160, 17, 17]             320\n",
            "     BasicConv2d-143          [-1, 160, 17, 17]               0\n",
            "          Conv2d-144          [-1, 160, 17, 17]         179,200\n",
            "     BatchNorm2d-145          [-1, 160, 17, 17]             320\n",
            "     BasicConv2d-146          [-1, 160, 17, 17]               0\n",
            "          Conv2d-147          [-1, 160, 17, 17]         179,200\n",
            "     BatchNorm2d-148          [-1, 160, 17, 17]             320\n",
            "     BasicConv2d-149          [-1, 160, 17, 17]               0\n",
            "          Conv2d-150          [-1, 192, 17, 17]         215,040\n",
            "     BatchNorm2d-151          [-1, 192, 17, 17]             384\n",
            "     BasicConv2d-152          [-1, 192, 17, 17]               0\n",
            "          Conv2d-153          [-1, 192, 17, 17]         147,456\n",
            "     BatchNorm2d-154          [-1, 192, 17, 17]             384\n",
            "     BasicConv2d-155          [-1, 192, 17, 17]               0\n",
            "      InceptionC-156          [-1, 768, 17, 17]               0\n",
            "          Conv2d-157          [-1, 192, 17, 17]         147,456\n",
            "     BatchNorm2d-158          [-1, 192, 17, 17]             384\n",
            "     BasicConv2d-159          [-1, 192, 17, 17]               0\n",
            "          Conv2d-160          [-1, 160, 17, 17]         122,880\n",
            "     BatchNorm2d-161          [-1, 160, 17, 17]             320\n",
            "     BasicConv2d-162          [-1, 160, 17, 17]               0\n",
            "          Conv2d-163          [-1, 160, 17, 17]         179,200\n",
            "     BatchNorm2d-164          [-1, 160, 17, 17]             320\n",
            "     BasicConv2d-165          [-1, 160, 17, 17]               0\n",
            "          Conv2d-166          [-1, 192, 17, 17]         215,040\n",
            "     BatchNorm2d-167          [-1, 192, 17, 17]             384\n",
            "     BasicConv2d-168          [-1, 192, 17, 17]               0\n",
            "          Conv2d-169          [-1, 160, 17, 17]         122,880\n",
            "     BatchNorm2d-170          [-1, 160, 17, 17]             320\n",
            "     BasicConv2d-171          [-1, 160, 17, 17]               0\n",
            "          Conv2d-172          [-1, 160, 17, 17]         179,200\n",
            "     BatchNorm2d-173          [-1, 160, 17, 17]             320\n",
            "     BasicConv2d-174          [-1, 160, 17, 17]               0\n",
            "          Conv2d-175          [-1, 160, 17, 17]         179,200\n",
            "     BatchNorm2d-176          [-1, 160, 17, 17]             320\n",
            "     BasicConv2d-177          [-1, 160, 17, 17]               0\n",
            "          Conv2d-178          [-1, 160, 17, 17]         179,200\n",
            "     BatchNorm2d-179          [-1, 160, 17, 17]             320\n",
            "     BasicConv2d-180          [-1, 160, 17, 17]               0\n",
            "          Conv2d-181          [-1, 192, 17, 17]         215,040\n",
            "     BatchNorm2d-182          [-1, 192, 17, 17]             384\n",
            "     BasicConv2d-183          [-1, 192, 17, 17]               0\n",
            "          Conv2d-184          [-1, 192, 17, 17]         147,456\n",
            "     BatchNorm2d-185          [-1, 192, 17, 17]             384\n",
            "     BasicConv2d-186          [-1, 192, 17, 17]               0\n",
            "      InceptionC-187          [-1, 768, 17, 17]               0\n",
            "          Conv2d-188          [-1, 192, 17, 17]         147,456\n",
            "     BatchNorm2d-189          [-1, 192, 17, 17]             384\n",
            "     BasicConv2d-190          [-1, 192, 17, 17]               0\n",
            "          Conv2d-191          [-1, 192, 17, 17]         147,456\n",
            "     BatchNorm2d-192          [-1, 192, 17, 17]             384\n",
            "     BasicConv2d-193          [-1, 192, 17, 17]               0\n",
            "          Conv2d-194          [-1, 192, 17, 17]         258,048\n",
            "     BatchNorm2d-195          [-1, 192, 17, 17]             384\n",
            "     BasicConv2d-196          [-1, 192, 17, 17]               0\n",
            "          Conv2d-197          [-1, 192, 17, 17]         258,048\n",
            "     BatchNorm2d-198          [-1, 192, 17, 17]             384\n",
            "     BasicConv2d-199          [-1, 192, 17, 17]               0\n",
            "          Conv2d-200          [-1, 192, 17, 17]         147,456\n",
            "     BatchNorm2d-201          [-1, 192, 17, 17]             384\n",
            "     BasicConv2d-202          [-1, 192, 17, 17]               0\n",
            "          Conv2d-203          [-1, 192, 17, 17]         258,048\n",
            "     BatchNorm2d-204          [-1, 192, 17, 17]             384\n",
            "     BasicConv2d-205          [-1, 192, 17, 17]               0\n",
            "          Conv2d-206          [-1, 192, 17, 17]         258,048\n",
            "     BatchNorm2d-207          [-1, 192, 17, 17]             384\n",
            "     BasicConv2d-208          [-1, 192, 17, 17]               0\n",
            "          Conv2d-209          [-1, 192, 17, 17]         258,048\n",
            "     BatchNorm2d-210          [-1, 192, 17, 17]             384\n",
            "     BasicConv2d-211          [-1, 192, 17, 17]               0\n",
            "          Conv2d-212          [-1, 192, 17, 17]         258,048\n",
            "     BatchNorm2d-213          [-1, 192, 17, 17]             384\n",
            "     BasicConv2d-214          [-1, 192, 17, 17]               0\n",
            "          Conv2d-215          [-1, 192, 17, 17]         147,456\n",
            "     BatchNorm2d-216          [-1, 192, 17, 17]             384\n",
            "     BasicConv2d-217          [-1, 192, 17, 17]               0\n",
            "      InceptionC-218          [-1, 768, 17, 17]               0\n",
            "          Conv2d-219          [-1, 192, 17, 17]         147,456\n",
            "     BatchNorm2d-220          [-1, 192, 17, 17]             384\n",
            "     BasicConv2d-221          [-1, 192, 17, 17]               0\n",
            "          Conv2d-222            [-1, 320, 8, 8]         552,960\n",
            "     BatchNorm2d-223            [-1, 320, 8, 8]             640\n",
            "     BasicConv2d-224            [-1, 320, 8, 8]               0\n",
            "          Conv2d-225          [-1, 192, 17, 17]         147,456\n",
            "     BatchNorm2d-226          [-1, 192, 17, 17]             384\n",
            "     BasicConv2d-227          [-1, 192, 17, 17]               0\n",
            "          Conv2d-228          [-1, 192, 17, 17]         258,048\n",
            "     BatchNorm2d-229          [-1, 192, 17, 17]             384\n",
            "     BasicConv2d-230          [-1, 192, 17, 17]               0\n",
            "          Conv2d-231          [-1, 192, 17, 17]         258,048\n",
            "     BatchNorm2d-232          [-1, 192, 17, 17]             384\n",
            "     BasicConv2d-233          [-1, 192, 17, 17]               0\n",
            "          Conv2d-234            [-1, 192, 8, 8]         331,776\n",
            "     BatchNorm2d-235            [-1, 192, 8, 8]             384\n",
            "     BasicConv2d-236            [-1, 192, 8, 8]               0\n",
            "      InceptionD-237           [-1, 1280, 8, 8]               0\n",
            "          Conv2d-238            [-1, 320, 8, 8]         409,600\n",
            "     BatchNorm2d-239            [-1, 320, 8, 8]             640\n",
            "     BasicConv2d-240            [-1, 320, 8, 8]               0\n",
            "          Conv2d-241            [-1, 384, 8, 8]         491,520\n",
            "     BatchNorm2d-242            [-1, 384, 8, 8]             768\n",
            "     BasicConv2d-243            [-1, 384, 8, 8]               0\n",
            "          Conv2d-244            [-1, 384, 8, 8]         442,368\n",
            "     BatchNorm2d-245            [-1, 384, 8, 8]             768\n",
            "     BasicConv2d-246            [-1, 384, 8, 8]               0\n",
            "          Conv2d-247            [-1, 384, 8, 8]         442,368\n",
            "     BatchNorm2d-248            [-1, 384, 8, 8]             768\n",
            "     BasicConv2d-249            [-1, 384, 8, 8]               0\n",
            "          Conv2d-250            [-1, 448, 8, 8]         573,440\n",
            "     BatchNorm2d-251            [-1, 448, 8, 8]             896\n",
            "     BasicConv2d-252            [-1, 448, 8, 8]               0\n",
            "          Conv2d-253            [-1, 384, 8, 8]       1,548,288\n",
            "     BatchNorm2d-254            [-1, 384, 8, 8]             768\n",
            "     BasicConv2d-255            [-1, 384, 8, 8]               0\n",
            "          Conv2d-256            [-1, 384, 8, 8]         442,368\n",
            "     BatchNorm2d-257            [-1, 384, 8, 8]             768\n",
            "     BasicConv2d-258            [-1, 384, 8, 8]               0\n",
            "          Conv2d-259            [-1, 384, 8, 8]         442,368\n",
            "     BatchNorm2d-260            [-1, 384, 8, 8]             768\n",
            "     BasicConv2d-261            [-1, 384, 8, 8]               0\n",
            "          Conv2d-262            [-1, 192, 8, 8]         245,760\n",
            "     BatchNorm2d-263            [-1, 192, 8, 8]             384\n",
            "     BasicConv2d-264            [-1, 192, 8, 8]               0\n",
            "      InceptionE-265           [-1, 2048, 8, 8]               0\n",
            "          Conv2d-266            [-1, 320, 8, 8]         655,360\n",
            "     BatchNorm2d-267            [-1, 320, 8, 8]             640\n",
            "     BasicConv2d-268            [-1, 320, 8, 8]               0\n",
            "          Conv2d-269            [-1, 384, 8, 8]         786,432\n",
            "     BatchNorm2d-270            [-1, 384, 8, 8]             768\n",
            "     BasicConv2d-271            [-1, 384, 8, 8]               0\n",
            "          Conv2d-272            [-1, 384, 8, 8]         442,368\n",
            "     BatchNorm2d-273            [-1, 384, 8, 8]             768\n",
            "     BasicConv2d-274            [-1, 384, 8, 8]               0\n",
            "          Conv2d-275            [-1, 384, 8, 8]         442,368\n",
            "     BatchNorm2d-276            [-1, 384, 8, 8]             768\n",
            "     BasicConv2d-277            [-1, 384, 8, 8]               0\n",
            "          Conv2d-278            [-1, 448, 8, 8]         917,504\n",
            "     BatchNorm2d-279            [-1, 448, 8, 8]             896\n",
            "     BasicConv2d-280            [-1, 448, 8, 8]               0\n",
            "          Conv2d-281            [-1, 384, 8, 8]       1,548,288\n",
            "     BatchNorm2d-282            [-1, 384, 8, 8]             768\n",
            "     BasicConv2d-283            [-1, 384, 8, 8]               0\n",
            "          Conv2d-284            [-1, 384, 8, 8]         442,368\n",
            "     BatchNorm2d-285            [-1, 384, 8, 8]             768\n",
            "     BasicConv2d-286            [-1, 384, 8, 8]               0\n",
            "          Conv2d-287            [-1, 384, 8, 8]         442,368\n",
            "     BatchNorm2d-288            [-1, 384, 8, 8]             768\n",
            "     BasicConv2d-289            [-1, 384, 8, 8]               0\n",
            "          Conv2d-290            [-1, 192, 8, 8]         393,216\n",
            "     BatchNorm2d-291            [-1, 192, 8, 8]             384\n",
            "     BasicConv2d-292            [-1, 192, 8, 8]               0\n",
            "      InceptionE-293           [-1, 2048, 8, 8]               0\n",
            "          Linear-294                 [-1, 1000]       2,049,000\n",
            "================================================================\n",
            "Total params: 23,834,568\n",
            "Trainable params: 23,834,568\n",
            "Non-trainable params: 0\n",
            "----------------------------------------------------------------\n",
            "Input size (MB): 1.02\n",
            "Forward/backward pass size (MB): 224.12\n",
            "Params size (MB): 90.92\n",
            "Estimated Total Size (MB): 316.07\n",
            "----------------------------------------------------------------\n"
          ],
          "name": "stdout"
        }
      ]
    },
    {
      "metadata": {
        "id": "RCcwbRDeOmjF",
        "colab_type": "text"
      },
      "cell_type": "markdown",
      "source": [
        "## Extracting Convolutional features"
      ]
    },
    {
      "metadata": {
        "id": "Q1laeDbnXMDy",
        "colab_type": "code",
        "colab": {}
      },
      "cell_type": "code",
      "source": [
        "my_inception.Mixed_7a"
      ],
      "execution_count": 0,
      "outputs": []
    },
    {
      "metadata": {
        "id": "iGyuW_HIzm-R",
        "colab_type": "code",
        "colab": {}
      },
      "cell_type": "code",
      "source": [
        "# Create LayerActivations object to store the output of inception model at a particular layer.\n",
        "trn_features = LayerActivations(my_inception.Mixed_7a)\n",
        "trn_labels = []"
      ],
      "execution_count": 0,
      "outputs": []
    },
    {
      "metadata": {
        "id": "LhAjsvndz2Fi",
        "colab_type": "code",
        "outputId": "d41c7b66-379a-48e1-bb50-981d9a30c7a8",
        "colab": {
          "base_uri": "https://localhost:8080/",
          "height": 35
        }
      },
      "cell_type": "code",
      "source": [
        "trn_features"
      ],
      "execution_count": 19,
      "outputs": [
        {
          "output_type": "execute_result",
          "data": {
            "text/plain": [
              "<__main__.LayerActivations at 0x7ffb29586940>"
            ]
          },
          "metadata": {
            "tags": []
          },
          "execution_count": 19
        }
      ]
    },
    {
      "metadata": {
        "id": "CnG5-gml0cDN",
        "colab_type": "code",
        "colab": {}
      },
      "cell_type": "code",
      "source": [
        "# Passing all the data through the model , as a side effect the outputs will get stored \n",
        "# in the features list of the LayerActivations object. \n",
        "for da,la in train_loader:\n",
        "    _ = my_inception(Variable(da.cuda()))\n",
        "    trn_labels.extend(la)\n",
        "trn_features.remove()"
      ],
      "execution_count": 0,
      "outputs": []
    },
    {
      "metadata": {
        "id": "mG7D5PdrOirQ",
        "colab_type": "code",
        "colab": {}
      },
      "cell_type": "code",
      "source": [
        "# Repeat the same process for validation dataset .\n",
        "\n",
        "val_features = LayerActivations(my_inception.Mixed_7a)\n",
        "val_labels = []\n",
        "for da,la in val_loader:\n",
        "    _ = my_inception(Variable(da.cuda()))\n",
        "    val_labels.extend(la)\n",
        "val_features.remove()"
      ],
      "execution_count": 0,
      "outputs": []
    },
    {
      "metadata": {
        "id": "CIKKu79WOtIS",
        "colab_type": "code",
        "colab": {
          "base_uri": "https://localhost:8080/",
          "height": 35
        },
        "outputId": "9571e397-1dfd-4b58-f793-864e654b3696"
      },
      "cell_type": "code",
      "source": [
        "len(val_labels)"
      ],
      "execution_count": 23,
      "outputs": [
        {
          "output_type": "execute_result",
          "data": {
            "text/plain": [
              "2500"
            ]
          },
          "metadata": {
            "tags": []
          },
          "execution_count": 23
        }
      ]
    },
    {
      "metadata": {
        "id": "Y1u_SwUrXHGP",
        "colab_type": "code",
        "colab": {
          "base_uri": "https://localhost:8080/",
          "height": 35
        },
        "outputId": "b076f2cb-21b1-440f-a513-4f001956b226"
      },
      "cell_type": "code",
      "source": [
        "trn_features.features[0]"
      ],
      "execution_count": 24,
      "outputs": [
        {
          "output_type": "execute_result",
          "data": {
            "text/plain": [
              "tensor([0.0000, 0.0000, 0.5720,  ..., 0.3371, 0.0000, 0.0000])"
            ]
          },
          "metadata": {
            "tags": []
          },
          "execution_count": 24
        }
      ]
    },
    {
      "metadata": {
        "id": "RC1_lk4-OwiQ",
        "colab_type": "code",
        "colab": {
          "base_uri": "https://localhost:8080/",
          "height": 35
        },
        "outputId": "f1240fae-b204-41af-a405-53e6c194b210"
      },
      "cell_type": "code",
      "source": [
        "trn_features.features[0].size()"
      ],
      "execution_count": 25,
      "outputs": [
        {
          "output_type": "execute_result",
          "data": {
            "text/plain": [
              "torch.Size([81920])"
            ]
          },
          "metadata": {
            "tags": []
          },
          "execution_count": 25
        }
      ]
    },
    {
      "metadata": {
        "id": "wbJZ5VUoOyDV",
        "colab_type": "code",
        "colab": {
          "base_uri": "https://localhost:8080/",
          "height": 35
        },
        "outputId": "e8270533-476e-4eae-80c2-3ee63f82c4eb"
      },
      "cell_type": "code",
      "source": [
        "len(trn_features.features)"
      ],
      "execution_count": 26,
      "outputs": [
        {
          "output_type": "execute_result",
          "data": {
            "text/plain": [
              "22500"
            ]
          },
          "metadata": {
            "tags": []
          },
          "execution_count": 26
        }
      ]
    },
    {
      "metadata": {
        "id": "I_Ik5_WZO2DX",
        "colab_type": "text"
      },
      "cell_type": "markdown",
      "source": [
        "## Creating train and validation feature dataset"
      ]
    },
    {
      "metadata": {
        "id": "3Nhn17TDO1dY",
        "colab_type": "code",
        "colab": {}
      },
      "cell_type": "code",
      "source": [
        "#Dataset for pre computed features for train and validation data sets\n",
        "\n",
        "trn_feat_dset = FeaturesDataset(trn_features.features,trn_labels)\n",
        "val_feat_dset = FeaturesDataset(val_features.features,val_labels)\n",
        "\n",
        "#Data loaders for pre computed features for train and validation data sets\n",
        "\n",
        "trn_feat_loader = DataLoader(trn_feat_dset,batch_size=64,shuffle=True)\n",
        "val_feat_loader = DataLoader(val_feat_dset,batch_size=64)"
      ],
      "execution_count": 0,
      "outputs": []
    },
    {
      "metadata": {
        "id": "z7JVtPQoO7fU",
        "colab_type": "text"
      },
      "cell_type": "markdown",
      "source": [
        "## A Fully connected network"
      ]
    },
    {
      "metadata": {
        "id": "jOLMzX-nOzy-",
        "colab_type": "code",
        "colab": {}
      },
      "cell_type": "code",
      "source": [
        "class FullyConnectedModel(nn.Module):\n",
        "    \n",
        "    def __init__(self,in_size,out_size,training=True):\n",
        "        super().__init__()\n",
        "        self.fc = nn.Linear(in_size,out_size)\n",
        "\n",
        "    def forward(self,inp):\n",
        "        out = F.dropout(inp, training=self.training)\n",
        "        out = self.fc(out)\n",
        "        return out\n",
        "\n",
        "# The size of the output from the selected convolution feature \n",
        "fc_in_size = 81920\n",
        "\n",
        "fc = FullyConnectedModel(fc_in_size,classes)\n",
        "if is_cuda:\n",
        "    fc = fc.cuda()"
      ],
      "execution_count": 0,
      "outputs": []
    },
    {
      "metadata": {
        "id": "WAPa_MppO_SU",
        "colab_type": "code",
        "colab": {}
      },
      "cell_type": "code",
      "source": [
        "optimizer = optim.Adam(fc.parameters(),lr=0.01)"
      ],
      "execution_count": 0,
      "outputs": []
    },
    {
      "metadata": {
        "id": "gfc_c2pJPCJe",
        "colab_type": "text"
      },
      "cell_type": "markdown",
      "source": [
        "## Train and validate the model"
      ]
    },
    {
      "metadata": {
        "id": "SZXW99NQPAyd",
        "colab_type": "code",
        "colab": {
          "base_uri": "https://localhost:8080/",
          "height": 401
        },
        "outputId": "606b0365-d529-4d62-ee38-4d039b40fe8f"
      },
      "cell_type": "code",
      "source": [
        "\n",
        "train_losses , train_accuracy = [],[]\n",
        "val_losses , val_accuracy = [],[]\n",
        "for epoch in range(1,10):\n",
        "    epoch_loss, epoch_accuracy = fit(epoch,fc,trn_feat_loader,phase='training')\n",
        "    val_epoch_loss , val_epoch_accuracy = fit(epoch,fc.eval(),val_feat_loader,phase='validation')\n",
        "    train_losses.append(epoch_loss)\n",
        "    train_accuracy.append(epoch_accuracy)\n",
        "    val_losses.append(val_epoch_loss)\n",
        "    val_accuracy.append(val_epoch_accuracy)"
      ],
      "execution_count": 33,
      "outputs": [
        {
          "output_type": "stream",
          "text": [
            "/usr/local/lib/python3.6/dist-packages/torch/nn/functional.py:52: UserWarning: size_average and reduce args will be deprecated, please use reduction='sum' instead.\n",
            "  warnings.warn(warning.format(ret))\n",
            "/usr/local/lib/python3.6/dist-packages/ipykernel_launcher.py:55: UserWarning: invalid index of a 0-dim tensor. This will be an error in PyTorch 0.5. Use tensor.item() to convert a 0-dim tensor to a Python number\n"
          ],
          "name": "stderr"
        },
        {
          "output_type": "stream",
          "text": [
            "training loss is   1.5 and training accuracy is 21431.0/22500.0     95.25\n",
            "validation loss is  0.19 and validation accuracy is 2478.0/2500.0     99.12\n",
            "training loss is  0.16 and training accuracy is 22318.0/22500.0     99.19\n",
            "validation loss is  0.15 and validation accuracy is 2479.0/2500.0     99.16\n",
            "training loss is  0.25 and training accuracy is 22274.0/22500.0      99.0\n",
            "validation loss is  0.21 and validation accuracy is 2486.0/2500.0     99.44\n",
            "training loss is  0.17 and training accuracy is 22365.0/22500.0      99.4\n",
            "validation loss is  0.16 and validation accuracy is 2489.0/2500.0     99.56\n",
            "training loss is  0.23 and training accuracy is 22352.0/22500.0     99.34\n",
            "validation loss is  0.53 and validation accuracy is 2473.0/2500.0     98.92\n",
            "training loss is  0.28 and training accuracy is 22354.0/22500.0     99.35\n",
            "validation loss is   1.6 and validation accuracy is 2428.0/2500.0     97.12\n",
            "training loss is  0.12 and training accuracy is 22424.0/22500.0     99.66\n",
            "validation loss is  0.26 and validation accuracy is 2489.0/2500.0     99.56\n",
            "training loss is   0.2 and training accuracy is 22407.0/22500.0     99.59\n",
            "validation loss is  0.37 and validation accuracy is 2481.0/2500.0     99.24\n",
            "training loss is  0.15 and training accuracy is 22413.0/22500.0     99.61\n",
            "validation loss is  0.42 and validation accuracy is 2487.0/2500.0     99.48\n"
          ],
          "name": "stdout"
        }
      ]
    },
    {
      "metadata": {
        "id": "iEd5wwzRPHNP",
        "colab_type": "code",
        "colab": {}
      },
      "cell_type": "code",
      "source": [
        "optimizer.param_groups[0]['lr']= 0.0001"
      ],
      "execution_count": 0,
      "outputs": []
    },
    {
      "metadata": {
        "id": "MDhGQpJ-PJGW",
        "colab_type": "code",
        "colab": {
          "base_uri": "https://localhost:8080/",
          "height": 401
        },
        "outputId": "2620c2a4-8e1e-4e60-f8aa-599cfec4e4df"
      },
      "cell_type": "code",
      "source": [
        "for epoch in range(1,10):\n",
        "    epoch_loss, epoch_accuracy = fit(epoch,fc,trn_feat_loader,phase='training')\n",
        "    val_epoch_loss , val_epoch_accuracy = fit(epoch,fc,val_feat_loader,phase='validation')\n",
        "    train_losses.append(epoch_loss)\n",
        "    train_accuracy.append(epoch_accuracy)\n",
        "    val_losses.append(val_epoch_loss)\n",
        "    val_accuracy.append(val_epoch_accuracy)"
      ],
      "execution_count": 35,
      "outputs": [
        {
          "output_type": "stream",
          "text": [
            "/usr/local/lib/python3.6/dist-packages/torch/nn/functional.py:52: UserWarning: size_average and reduce args will be deprecated, please use reduction='sum' instead.\n",
            "  warnings.warn(warning.format(ret))\n",
            "/usr/local/lib/python3.6/dist-packages/ipykernel_launcher.py:55: UserWarning: invalid index of a 0-dim tensor. This will be an error in PyTorch 0.5. Use tensor.item() to convert a 0-dim tensor to a Python number\n"
          ],
          "name": "stderr"
        },
        {
          "output_type": "stream",
          "text": [
            "training loss is 0.078 and training accuracy is 22457.0/22500.0     99.81\n",
            "validation loss is  0.42 and validation accuracy is 2488.0/2500.0     99.52\n",
            "training loss is 0.075 and training accuracy is 22465.0/22500.0     99.84\n",
            "validation loss is  0.42 and validation accuracy is 2488.0/2500.0     99.52\n",
            "training loss is 0.044 and training accuracy is 22478.0/22500.0      99.9\n",
            "validation loss is  0.42 and validation accuracy is 2488.0/2500.0     99.52\n",
            "training loss is 0.045 and training accuracy is 22475.0/22500.0     99.89\n",
            "validation loss is  0.41 and validation accuracy is 2488.0/2500.0     99.52\n",
            "training loss is 0.057 and training accuracy is 22472.0/22500.0     99.88\n",
            "validation loss is   0.4 and validation accuracy is 2488.0/2500.0     99.52\n",
            "training loss is  0.05 and training accuracy is 22473.0/22500.0     99.88\n",
            "validation loss is   0.4 and validation accuracy is 2489.0/2500.0     99.56\n",
            "training loss is  0.03 and training accuracy is 22476.0/22500.0     99.89\n",
            "validation loss is   0.4 and validation accuracy is 2489.0/2500.0     99.56\n",
            "training loss is 0.042 and training accuracy is 22474.0/22500.0     99.88\n",
            "validation loss is   0.4 and validation accuracy is 2489.0/2500.0     99.56\n",
            "training loss is 0.033 and training accuracy is 22478.0/22500.0      99.9\n",
            "validation loss is  0.39 and validation accuracy is 2490.0/2500.0      99.6\n"
          ],
          "name": "stdout"
        }
      ]
    },
    {
      "metadata": {
        "id": "RF76LrofPKiT",
        "colab_type": "code",
        "colab": {
          "base_uri": "https://localhost:8080/",
          "height": 3521
        },
        "outputId": "c060c676-0957-4cbc-f774-e951662d4342"
      },
      "cell_type": "code",
      "source": [
        "for epoch in range(1,100):\n",
        "    epoch_loss, epoch_accuracy = fit(epoch,fc,trn_feat_loader,phase='training')\n",
        "    val_epoch_loss , val_epoch_accuracy = fit(epoch,fc,val_feat_loader,phase='validation')\n",
        "    train_losses.append(epoch_loss)\n",
        "    train_accuracy.append(epoch_accuracy)\n",
        "    val_losses.append(val_epoch_loss)\n",
        "    val_accuracy.append(val_epoch_accuracy)"
      ],
      "execution_count": 36,
      "outputs": [
        {
          "output_type": "stream",
          "text": [
            "/usr/local/lib/python3.6/dist-packages/torch/nn/functional.py:52: UserWarning: size_average and reduce args will be deprecated, please use reduction='sum' instead.\n",
            "  warnings.warn(warning.format(ret))\n",
            "/usr/local/lib/python3.6/dist-packages/ipykernel_launcher.py:55: UserWarning: invalid index of a 0-dim tensor. This will be an error in PyTorch 0.5. Use tensor.item() to convert a 0-dim tensor to a Python number\n"
          ],
          "name": "stderr"
        },
        {
          "output_type": "stream",
          "text": [
            "training loss is 0.025 and training accuracy is 22484.0/22500.0     99.93\n",
            "validation loss is  0.39 and validation accuracy is 2489.0/2500.0     99.56\n",
            "training loss is 0.033 and training accuracy is 22481.0/22500.0     99.92\n",
            "validation loss is  0.39 and validation accuracy is 2490.0/2500.0      99.6\n",
            "training loss is 0.041 and training accuracy is 22478.0/22500.0      99.9\n",
            "validation loss is  0.38 and validation accuracy is 2490.0/2500.0      99.6\n",
            "training loss is 0.041 and training accuracy is 22478.0/22500.0      99.9\n",
            "validation loss is  0.38 and validation accuracy is 2489.0/2500.0     99.56\n",
            "training loss is 0.021 and training accuracy is 22485.0/22500.0     99.93\n",
            "validation loss is  0.38 and validation accuracy is 2490.0/2500.0      99.6\n",
            "training loss is 0.025 and training accuracy is 22485.0/22500.0     99.93\n",
            "validation loss is  0.38 and validation accuracy is 2490.0/2500.0      99.6\n",
            "training loss is 0.034 and training accuracy is 22479.0/22500.0     99.91\n",
            "validation loss is  0.37 and validation accuracy is 2490.0/2500.0      99.6\n",
            "training loss is 0.021 and training accuracy is 22484.0/22500.0     99.93\n",
            "validation loss is  0.37 and validation accuracy is 2490.0/2500.0      99.6\n",
            "training loss is 0.032 and training accuracy is 22484.0/22500.0     99.93\n",
            "validation loss is  0.37 and validation accuracy is 2490.0/2500.0      99.6\n",
            "training loss is  0.02 and training accuracy is 22489.0/22500.0     99.95\n",
            "validation loss is  0.37 and validation accuracy is 2490.0/2500.0      99.6\n",
            "training loss is 0.022 and training accuracy is 22487.0/22500.0     99.94\n",
            "validation loss is  0.37 and validation accuracy is 2490.0/2500.0      99.6\n",
            "training loss is 0.024 and training accuracy is 22483.0/22500.0     99.92\n",
            "validation loss is  0.37 and validation accuracy is 2490.0/2500.0      99.6\n",
            "training loss is 0.029 and training accuracy is 22481.0/22500.0     99.92\n",
            "validation loss is  0.37 and validation accuracy is 2490.0/2500.0      99.6\n",
            "training loss is 0.023 and training accuracy is 22484.0/22500.0     99.93\n",
            "validation loss is  0.37 and validation accuracy is 2490.0/2500.0      99.6\n",
            "training loss is 0.024 and training accuracy is 22485.0/22500.0     99.93\n",
            "validation loss is  0.37 and validation accuracy is 2490.0/2500.0      99.6\n",
            "training loss is 0.025 and training accuracy is 22485.0/22500.0     99.93\n",
            "validation loss is  0.36 and validation accuracy is 2490.0/2500.0      99.6\n",
            "training loss is 0.025 and training accuracy is 22481.0/22500.0     99.92\n",
            "validation loss is  0.36 and validation accuracy is 2490.0/2500.0      99.6\n",
            "training loss is 0.019 and training accuracy is 22483.0/22500.0     99.92\n",
            "validation loss is  0.36 and validation accuracy is 2490.0/2500.0      99.6\n",
            "training loss is 0.014 and training accuracy is 22491.0/22500.0     99.96\n",
            "validation loss is  0.36 and validation accuracy is 2490.0/2500.0      99.6\n",
            "training loss is 0.0083 and training accuracy is 22490.0/22500.0     99.96\n",
            "validation loss is  0.36 and validation accuracy is 2490.0/2500.0      99.6\n",
            "training loss is 0.0074 and training accuracy is 22492.0/22500.0     99.96\n",
            "validation loss is  0.36 and validation accuracy is 2490.0/2500.0      99.6\n",
            "training loss is 0.017 and training accuracy is 22483.0/22500.0     99.92\n",
            "validation loss is  0.35 and validation accuracy is 2490.0/2500.0      99.6\n",
            "training loss is 0.015 and training accuracy is 22485.0/22500.0     99.93\n",
            "validation loss is  0.35 and validation accuracy is 2490.0/2500.0      99.6\n",
            "training loss is 0.021 and training accuracy is 22488.0/22500.0     99.95\n",
            "validation loss is  0.35 and validation accuracy is 2491.0/2500.0     99.64\n",
            "training loss is 0.0085 and training accuracy is 22491.0/22500.0     99.96\n",
            "validation loss is  0.35 and validation accuracy is 2490.0/2500.0      99.6\n",
            "training loss is 0.031 and training accuracy is 22485.0/22500.0     99.93\n",
            "validation loss is  0.35 and validation accuracy is 2490.0/2500.0      99.6\n",
            "training loss is 0.016 and training accuracy is 22483.0/22500.0     99.92\n",
            "validation loss is  0.35 and validation accuracy is 2490.0/2500.0      99.6\n",
            "training loss is 0.012 and training accuracy is 22493.0/22500.0     99.97\n",
            "validation loss is  0.35 and validation accuracy is 2490.0/2500.0      99.6\n",
            "training loss is 0.015 and training accuracy is 22488.0/22500.0     99.95\n",
            "validation loss is  0.35 and validation accuracy is 2490.0/2500.0      99.6\n",
            "training loss is 0.0091 and training accuracy is 22491.0/22500.0     99.96\n",
            "validation loss is  0.35 and validation accuracy is 2490.0/2500.0      99.6\n",
            "training loss is 0.026 and training accuracy is 22484.0/22500.0     99.93\n",
            "validation loss is  0.35 and validation accuracy is 2492.0/2500.0     99.68\n",
            "training loss is 0.018 and training accuracy is 22490.0/22500.0     99.96\n",
            "validation loss is  0.34 and validation accuracy is 2490.0/2500.0      99.6\n",
            "training loss is 0.017 and training accuracy is 22489.0/22500.0     99.95\n",
            "validation loss is  0.34 and validation accuracy is 2492.0/2500.0     99.68\n",
            "training loss is 0.0095 and training accuracy is 22490.0/22500.0     99.96\n",
            "validation loss is  0.34 and validation accuracy is 2490.0/2500.0      99.6\n",
            "training loss is 0.0048 and training accuracy is 22491.0/22500.0     99.96\n",
            "validation loss is  0.35 and validation accuracy is 2492.0/2500.0     99.68\n",
            "training loss is 0.014 and training accuracy is 22489.0/22500.0     99.95\n",
            "validation loss is  0.34 and validation accuracy is 2490.0/2500.0      99.6\n",
            "training loss is  0.01 and training accuracy is 22494.0/22500.0     99.97\n",
            "validation loss is  0.34 and validation accuracy is 2490.0/2500.0      99.6\n",
            "training loss is 0.009 and training accuracy is 22490.0/22500.0     99.96\n",
            "validation loss is  0.34 and validation accuracy is 2490.0/2500.0      99.6\n",
            "training loss is 0.013 and training accuracy is 22491.0/22500.0     99.96\n",
            "validation loss is  0.35 and validation accuracy is 2490.0/2500.0      99.6\n",
            "training loss is 0.0067 and training accuracy is 22492.0/22500.0     99.96\n",
            "validation loss is  0.35 and validation accuracy is 2491.0/2500.0     99.64\n",
            "training loss is 0.011 and training accuracy is 22489.0/22500.0     99.95\n",
            "validation loss is  0.34 and validation accuracy is 2490.0/2500.0      99.6\n",
            "training loss is 0.013 and training accuracy is 22486.0/22500.0     99.94\n",
            "validation loss is  0.35 and validation accuracy is 2492.0/2500.0     99.68\n",
            "training loss is 0.016 and training accuracy is 22490.0/22500.0     99.96\n",
            "validation loss is  0.34 and validation accuracy is 2490.0/2500.0      99.6\n",
            "training loss is 0.015 and training accuracy is 22490.0/22500.0     99.96\n",
            "validation loss is  0.34 and validation accuracy is 2490.0/2500.0      99.6\n",
            "training loss is 0.014 and training accuracy is 22485.0/22500.0     99.93\n",
            "validation loss is  0.34 and validation accuracy is 2490.0/2500.0      99.6\n",
            "training loss is 0.0095 and training accuracy is 22492.0/22500.0     99.96\n",
            "validation loss is  0.34 and validation accuracy is 2490.0/2500.0      99.6\n",
            "training loss is 0.0074 and training accuracy is 22493.0/22500.0     99.97\n",
            "validation loss is  0.34 and validation accuracy is 2490.0/2500.0      99.6\n",
            "training loss is 0.0054 and training accuracy is 22496.0/22500.0     99.98\n",
            "validation loss is  0.34 and validation accuracy is 2490.0/2500.0      99.6\n",
            "training loss is 0.0045 and training accuracy is 22493.0/22500.0     99.97\n",
            "validation loss is  0.33 and validation accuracy is 2490.0/2500.0      99.6\n",
            "training loss is 0.0088 and training accuracy is 22493.0/22500.0     99.97\n",
            "validation loss is  0.33 and validation accuracy is 2490.0/2500.0      99.6\n",
            "training loss is 0.0088 and training accuracy is 22491.0/22500.0     99.96\n",
            "validation loss is  0.34 and validation accuracy is 2492.0/2500.0     99.68\n",
            "training loss is 0.0046 and training accuracy is 22493.0/22500.0     99.97\n",
            "validation loss is  0.34 and validation accuracy is 2492.0/2500.0     99.68\n",
            "training loss is 0.0046 and training accuracy is 22493.0/22500.0     99.97\n",
            "validation loss is  0.33 and validation accuracy is 2492.0/2500.0     99.68\n",
            "training loss is 0.0029 and training accuracy is 22497.0/22500.0     99.99\n",
            "validation loss is  0.33 and validation accuracy is 2492.0/2500.0     99.68\n",
            "training loss is 0.008 and training accuracy is 22494.0/22500.0     99.97\n",
            "validation loss is  0.34 and validation accuracy is 2493.0/2500.0     99.72\n",
            "training loss is 0.0074 and training accuracy is 22493.0/22500.0     99.97\n",
            "validation loss is  0.33 and validation accuracy is 2490.0/2500.0      99.6\n",
            "training loss is 0.0029 and training accuracy is 22496.0/22500.0     99.98\n",
            "validation loss is  0.33 and validation accuracy is 2490.0/2500.0      99.6\n",
            "training loss is 0.011 and training accuracy is 22491.0/22500.0     99.96\n",
            "validation loss is  0.32 and validation accuracy is 2490.0/2500.0      99.6\n",
            "training loss is 0.0045 and training accuracy is 22492.0/22500.0     99.96\n",
            "validation loss is  0.33 and validation accuracy is 2491.0/2500.0     99.64\n",
            "training loss is 0.0086 and training accuracy is 22493.0/22500.0     99.97\n",
            "validation loss is  0.32 and validation accuracy is 2490.0/2500.0      99.6\n",
            "training loss is 0.022 and training accuracy is 22488.0/22500.0     99.95\n",
            "validation loss is  0.33 and validation accuracy is 2490.0/2500.0      99.6\n",
            "training loss is 0.0029 and training accuracy is 22492.0/22500.0     99.96\n",
            "validation loss is  0.33 and validation accuracy is 2492.0/2500.0     99.68\n",
            "training loss is 0.013 and training accuracy is 22490.0/22500.0     99.96\n",
            "validation loss is  0.33 and validation accuracy is 2490.0/2500.0      99.6\n",
            "training loss is 0.0061 and training accuracy is 22492.0/22500.0     99.96\n",
            "validation loss is  0.33 and validation accuracy is 2490.0/2500.0      99.6\n",
            "training loss is 0.0071 and training accuracy is 22497.0/22500.0     99.99\n",
            "validation loss is  0.33 and validation accuracy is 2490.0/2500.0      99.6\n",
            "training loss is  0.01 and training accuracy is 22491.0/22500.0     99.96\n",
            "validation loss is  0.33 and validation accuracy is 2492.0/2500.0     99.68\n",
            "training loss is  0.01 and training accuracy is 22491.0/22500.0     99.96\n",
            "validation loss is  0.33 and validation accuracy is 2492.0/2500.0     99.68\n",
            "training loss is 0.018 and training accuracy is 22490.0/22500.0     99.96\n",
            "validation loss is  0.33 and validation accuracy is 2490.0/2500.0      99.6\n",
            "training loss is 0.0039 and training accuracy is 22498.0/22500.0     99.99\n",
            "validation loss is  0.33 and validation accuracy is 2491.0/2500.0     99.64\n",
            "training loss is 0.011 and training accuracy is 22489.0/22500.0     99.95\n",
            "validation loss is  0.32 and validation accuracy is 2490.0/2500.0      99.6\n",
            "training loss is 0.0048 and training accuracy is 22493.0/22500.0     99.97\n",
            "validation loss is  0.32 and validation accuracy is 2490.0/2500.0      99.6\n",
            "training loss is 0.0074 and training accuracy is 22494.0/22500.0     99.97\n",
            "validation loss is  0.33 and validation accuracy is 2490.0/2500.0      99.6\n",
            "training loss is 0.0072 and training accuracy is 22494.0/22500.0     99.97\n",
            "validation loss is  0.33 and validation accuracy is 2490.0/2500.0      99.6\n",
            "training loss is 0.0069 and training accuracy is 22494.0/22500.0     99.97\n",
            "validation loss is  0.33 and validation accuracy is 2490.0/2500.0      99.6\n",
            "training loss is 0.014 and training accuracy is 22490.0/22500.0     99.96\n",
            "validation loss is  0.32 and validation accuracy is 2490.0/2500.0      99.6\n",
            "training loss is 0.0097 and training accuracy is 22494.0/22500.0     99.97\n",
            "validation loss is  0.33 and validation accuracy is 2490.0/2500.0      99.6\n",
            "training loss is 0.008 and training accuracy is 22493.0/22500.0     99.97\n",
            "validation loss is  0.33 and validation accuracy is 2490.0/2500.0      99.6\n",
            "training loss is 0.0081 and training accuracy is 22494.0/22500.0     99.97\n",
            "validation loss is  0.33 and validation accuracy is 2493.0/2500.0     99.72\n",
            "training loss is 0.0048 and training accuracy is 22497.0/22500.0     99.99\n",
            "validation loss is  0.33 and validation accuracy is 2490.0/2500.0      99.6\n",
            "training loss is 0.0082 and training accuracy is 22493.0/22500.0     99.97\n",
            "validation loss is  0.32 and validation accuracy is 2490.0/2500.0      99.6\n",
            "training loss is 0.0047 and training accuracy is 22496.0/22500.0     99.98\n",
            "validation loss is  0.32 and validation accuracy is 2490.0/2500.0      99.6\n",
            "training loss is 0.0066 and training accuracy is 22492.0/22500.0     99.96\n",
            "validation loss is  0.32 and validation accuracy is 2490.0/2500.0      99.6\n",
            "training loss is 0.0081 and training accuracy is 22497.0/22500.0     99.99\n",
            "validation loss is  0.32 and validation accuracy is 2490.0/2500.0      99.6\n",
            "training loss is 0.012 and training accuracy is 22495.0/22500.0     99.98\n",
            "validation loss is  0.32 and validation accuracy is 2490.0/2500.0      99.6\n",
            "training loss is 0.0091 and training accuracy is 22491.0/22500.0     99.96\n",
            "validation loss is  0.32 and validation accuracy is 2490.0/2500.0      99.6\n",
            "training loss is 0.0069 and training accuracy is 22494.0/22500.0     99.97\n",
            "validation loss is  0.32 and validation accuracy is 2490.0/2500.0      99.6\n",
            "training loss is 0.005 and training accuracy is 22496.0/22500.0     99.98\n",
            "validation loss is  0.32 and validation accuracy is 2490.0/2500.0      99.6\n",
            "training loss is 0.0081 and training accuracy is 22494.0/22500.0     99.97\n",
            "validation loss is  0.33 and validation accuracy is 2492.0/2500.0     99.68\n",
            "training loss is 0.0081 and training accuracy is 22495.0/22500.0     99.98\n",
            "validation loss is  0.32 and validation accuracy is 2490.0/2500.0      99.6\n",
            "training loss is 0.002 and training accuracy is 22498.0/22500.0     99.99\n",
            "validation loss is  0.32 and validation accuracy is 2490.0/2500.0      99.6\n",
            "training loss is 0.0056 and training accuracy is 22494.0/22500.0     99.97\n",
            "validation loss is  0.32 and validation accuracy is 2490.0/2500.0      99.6\n",
            "training loss is 0.012 and training accuracy is 22494.0/22500.0     99.97\n",
            "validation loss is  0.31 and validation accuracy is 2490.0/2500.0      99.6\n",
            "training loss is 0.012 and training accuracy is 22493.0/22500.0     99.97\n",
            "validation loss is  0.32 and validation accuracy is 2490.0/2500.0      99.6\n",
            "training loss is 0.00018 and training accuracy is 22498.0/22500.0     99.99\n",
            "validation loss is  0.32 and validation accuracy is 2491.0/2500.0     99.64\n",
            "training loss is 0.0093 and training accuracy is 22492.0/22500.0     99.96\n",
            "validation loss is  0.32 and validation accuracy is 2490.0/2500.0      99.6\n",
            "training loss is 0.0041 and training accuracy is 22496.0/22500.0     99.98\n",
            "validation loss is  0.32 and validation accuracy is 2491.0/2500.0     99.64\n",
            "training loss is 0.004 and training accuracy is 22496.0/22500.0     99.98\n",
            "validation loss is  0.33 and validation accuracy is 2493.0/2500.0     99.72\n",
            "training loss is 0.0032 and training accuracy is 22495.0/22500.0     99.98\n",
            "validation loss is  0.32 and validation accuracy is 2490.0/2500.0      99.6\n",
            "training loss is 0.0045 and training accuracy is 22498.0/22500.0     99.99\n",
            "validation loss is  0.32 and validation accuracy is 2492.0/2500.0     99.68\n"
          ],
          "name": "stdout"
        }
      ]
    },
    {
      "metadata": {
        "id": "CTlx-ZxvPQG-",
        "colab_type": "code",
        "colab": {}
      },
      "cell_type": "code",
      "source": [
        ""
      ],
      "execution_count": 0,
      "outputs": []
    }
  ]
}